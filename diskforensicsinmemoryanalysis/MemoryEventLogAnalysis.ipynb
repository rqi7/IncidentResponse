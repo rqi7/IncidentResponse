{
 "cells": [
  {
   "cell_type": "markdown",
   "metadata": {},
   "source": [
    "# Disk Artifacts in memory\n",
    "Even though memory has several artifacts not found on disk it contains several traditionally disk based forensics artifacts that can be parsed and analyzed without taking a full disk image. The artifacts covered in this lesson are the following:\n",
    "\n",
    "* Event logs\n",
    "* $MFT\n",
    "* Prefetch\n",
    "\n",
    "## Event Logs\n",
    "\n",
    "Event logs house numerous artifact for incident response. The three main Windows event logs are the following:\n",
    "\n",
    "* Security\n",
    "* System\n",
    "* Application\n",
    "\n",
    "There are many more event logs then these and any applicaiton can create it's own event log. More recent relavent event logs are Powershell and Sysmon specific event logs which keep track of powershell command exection and Sysmon is an event log which can be customized to gather network and process exectuion similar to using the `sysmon` tool in malware analysis. Windows logs are stored in these directories on disk:\n",
    "\n",
    "* Application - %SYSTEMROOT%/System32\\winevt\\Logs\\application.evtx\n",
    "* System - %SYSTEMROOT%/System32\\winevt\\Logs\\system.evtx\n",
    "* Security - %SYSTEMROOT%/System32\\winevt\\Logs\\security.evtx\n",
    "\n",
    "Security event logs are where user logon and logoff activity are stored as well as if configured correctly process execution. Security event logs events are numerous but the main events to monitor for related to logon events are the following:\n",
    "\n",
    "|Event ID| Description|\n",
    "|--------|------------|\n",
    "| 4624   |An account was successfully logged on|\n",
    "|4625    | An account failed to log on|\n",
    "|4778    | A session was reconnected to a Window Station|\n",
    "|4779    | A session was disconnected from a Window Station|\n",
    "\n",
    "There are logon types assocaited with these events which will tell how the logon happed weather it be through an interactive session or network. A list of common logon types are listed below:\n",
    "\n",
    "|Event ID| Description|\n",
    "|--------|------------|\n",
    "|2| Interactive|\n",
    "|3|Network|\n",
    "|4|Batch|\n",
    "|5|Service|\n",
    "|6|Proxy|\n",
    "|7|Unlock|\n",
    "|8|Network Cleartext|\n",
    "|9|New Credentials|\n",
    "|10|Remote Interactive|\n",
    "|11|Cache Interactive|\n",
    "\n",
    "All of these types have specific meaning and are described below:\n",
    "\n",
    "* Interactive – logged on from console, keyboard, runas or KVM\n",
    "* Network – net use or IIS integrated auth\n",
    "* Batch – scheduled task\n",
    "* Service – service logged on with configured credintials\n",
    "* Proxy – not sure\n",
    "* Unlock – system unlocked from screensaver\n",
    "* NetworkClearText – logons from web servers\n",
    "* NewCredintials – Assumed through runas\n",
    "* RemoteInteractive – logged on through terminal services, remote assistance or RDP\n",
    "* CacheInteractive – cached \n",
    "\n",
    "There are other logon events related to Kerbos that are also relavent that have different Event ID's. These specific events are summarized below:\n",
    "\n",
    "|Event ID|Description|\n",
    "|--------|-----------|\n",
    "|4772 | A Kerberos authentication ticket request failed|\n",
    "|4768 | A Kerberos authentication ticket (TGT) was requested|\n",
    "|4769| A Kerberos service ticket was requested|\n",
    "|4770|A Kerberos service ticket was renewed|\n",
    "|4773|A Kerberos service ticket request failed|\n",
    "|4771|Kerberos pre-authentication failed|\n",
    "|4768|A Kerberos authentication ticket (TGT) was requested|\n",
    "|4774|An account was mapped for logon|\n",
    "|4776|The domain controller attempted to validate the credentials for an account|\n",
    "|4778|A session was reconnected to a Window Station|\n",
    "|4779 |A session was disconnected from a Window Station|\n",
    "\n",
    "Several other event ID's are not related to account logon or logoff but related to account managment, these event ID's are summarized below:\n",
    "\n",
    "|Event ID|Description|\n",
    "|--------|-----------|\n",
    "|4720| A user account was created|\n",
    "|4722| A user account was enabled|\n",
    "|4723| An attempt was made to change an account's password|\n",
    "|4724| An attempt was made to reset an accounts password|\n",
    "|4725| A user account was disabled|\n",
    "|4726| A user account was deleted|\n",
    "|4727| A security-enabled global group was created|\n",
    "|4728| A member was added to a security-enabled global group|\n",
    "|4729| A member was removed from a security-enabled global group|\n",
    "|4730| A security-enabled global group was deleted|\n",
    "|4731|A security-enabled local group was created|\n",
    "|4732|A member was added to a security-enabled local group|\n",
    "|4733| A member was removed from a security-enabled local group|\n",
    "|4734| A security-enabled local group was deleted|\n",
    "|4735| A security-enabled local group was changed|\n",
    "|4737| A security-enabled global group was changed|\n",
    "|4738| A user account was changed|\n",
    "|4739| Domain Policy was changed|\n",
    "|4740|A user account was locked out|\n",
    "\n",
    "System and Application event logs do not have the same consistency of event ID's and descriptions to parse but can contain relavent information for analysis. The Application event log can contain any applications events with custom ID's and descriptions. With the move to Windows 7 many applications started creating their own Windows Event Logs but many still write to the Windows Application event log. The system event log does have some consitent events which are realted to services starting. Event ID's and descritions relatedt o services are located below:\n",
    "\n",
    "|Event ID|Description|\n",
    "|--------|-----------|\n",
    "|7035|Service sent a start contol|\n",
    "|7036|Service entered the running state|\n",
    "|7035|Service successfully sent a stop control|\n",
    "|7036|Service entered the stop state|\n",
    "\n",
    "Services with these ID's could be malicous backdoors starting as a service or attacker utilities such as `PSEXEC` or Windows Credintial Editor.\n",
    "\n",
    "Event logs in memory can be parsed in only older memory images. To parse the event log execute the folowing commands and volatility plugin:\n"
   ]
  },
  {
   "cell_type": "code",
   "execution_count": 8,
   "metadata": {},
   "outputs": [
    {
     "name": "stdout",
     "output_type": "stream",
     "text": [
      "\n",
      "\n",
      "    Directory: C:\\Users\\jsmith\\Documents\\GitHub\\IncidentResponse\\diskforensicsinmemoryanalysis\n",
      "\n",
      "\n",
      "Mode                LastWriteTime         Length Name                                                                  \n",
      "----                -------------         ------ ----                                                                  \n",
      "d-----        4/23/2018  10:14 PM                output                                                                \n",
      "\n",
      "\n"
     ]
    }
   ],
   "source": [
    "mkdir output"
   ]
  },
  {
   "cell_type": "code",
   "execution_count": 9,
   "metadata": {},
   "outputs": [
    {
     "name": "stdout",
     "output_type": "stream",
     "text": [
      "Volatility Foundation Volatility Framework 2.6\n",
      "Parsed data sent to internet.txt\n",
      "Parsed data sent to appevent.txt\n",
      "Parsed data sent to sysevent.txt\n",
      "Parsed data sent to secevent.txt\n"
     ]
    }
   ],
   "source": [
    "python ../volatility/vol.py -f ../APT.img --profile=WinXPSP2x86 evtlogs -D output"
   ]
  },
  {
   "cell_type": "code",
   "execution_count": 10,
   "metadata": {},
   "outputs": [
    {
     "name": "stdout",
     "output_type": "stream",
     "text": [
      "2008-08-11 16:06:48 UTC+0000|sysevent.evt|MACHINENAME|N/A|EventLog|6009|Info|5.01.;2600;Service Pack 3;Uniprocessor Free\n",
      "2008-08-11 16:06:48 UTC+0000|sysevent.evt|MACHINENAME|N/A|EventLog|6005|Info|N/A\n",
      "2008-08-11 16:07:05 UTC+0000|sysevent.evt|MACHINENAME|N/A|Serial|2|Info|\\Device\\Serial0;\\Device\\Serial0\n",
      "2008-08-11 16:07:05 UTC+0000|sysevent.evt|MACHINENAME|N/A|Serial|2|Info|\\Device\\Serial1;\\Device\\Serial1\n",
      "2008-08-11 20:21:13 UTC+0000|sysevent.evt|DEMO-C442CF8FA3|N/A|EventLog|6011|Info|MACHINENAME;DEMO-C442CF8FA3\n",
      "2008-08-11 20:24:12 UTC+0000|sysevent.evt|DEMO-C442CF8FA3|N/A|Workstation|3260|Info|workgroup;WORKGROUP\n",
      "2008-08-11 20:25:47 UTC+0000|sysevent.evt|DEMO-C442CF8FA3|N/A|HTTP|15007|Info|;http://*:2869/\n",
      "2008-08-11 20:31:14 UTC+0000|sysevent.evt|DEMO-C442CF8FA3|N/A|Setup|60054|Info|2600\n",
      "2008-08-11 21:02:27 UTC+0000|sysevent.evt|DEMO-C442CF8FA3|N/A|EventLog|6009|Info|5.01.;2600;Service Pack 3;Uniprocessor Free\n",
      "2008-08-11 21:02:27 UTC+0000|sysevent.evt|DEMO-C442CF8FA3|N/A|EventLog|6005|Info|N/A\n",
      "2008-08-11 21:02:39 UTC+0000|sysevent.evt|DEMO-C442CF8FA3|N/A|SRService|115|Info|N/A\n",
      "2008-08-11 21:02:44 UTC+0000|sysevent.evt|DEMO-C442CF8FA3|S-1-5-18 (Local System)|Service Control Manager|7035|Info|DCOM Server Process Launcher;start\n",
      "2008-08-11 21:02:44 UTC+0000|sysevent.evt|DEMO-C442CF8FA3|S-1-5-18 (Local System)|Service Control Manager|7035|Info|Telephony;start\n",
      "2008-08-11 21:02:44 UTC+0000|sysevent.evt|DEMO-C442CF8FA3|S-1-5-18 (Local System)|Service Control Manager|7035|Info|Network Location Awareness (NLA);start\n",
      "2008-08-11 21:02:44 UTC+0000|sysevent.evt|DEMO-C442CF8FA3|N/A|Service Control Manager|7036|Info|Network Location Awareness (NLA);running\n",
      "2008-08-11 21:02:44 UTC+0000|sysevent.evt|DEMO-C442CF8FA3|S-1-5-18 (Local System)|Service Control Manager|7035|Info|Application Layer Gateway Service;start\n",
      "2008-08-11 21:02:44 UTC+0000|sysevent.evt|DEMO-C442CF8FA3|N/A|Service Control Manager|7036|Info|Application Layer Gateway Service;running\n",
      "2008-08-11 21:02:45 UTC+0000|sysevent.evt|DEMO-C442CF8FA3|N/A|Service Control Manager|7036|Info|Computer Browser;stopped\n",
      "2008-08-11 21:04:44 UTC+0000|sysevent.evt|DEMO-C442CF8FA3|N/A|Service Control Manager|7036|Info|Telephony;stopped\n",
      "2008-08-11 21:06:01 UTC+0000|sysevent.evt|DEMO-C442CF8FA3|S-1-5-18 (Local System)|Service Control Manager|7035|Info|SSDP Discovery Service;start\n",
      "2008-08-11 21:06:01 UTC+0000|sysevent.evt|DEMO-C442CF8FA3|N/A|Service Control Manager|7036|Info|SSDP Discovery Service;running\n",
      "2008-08-11 21:06:01 UTC+0000|sysevent.evt|DEMO-C442C|N/A|Service Control Manager|7036|Info|;\n"
     ]
    }
   ],
   "source": [
    "cat output/sysevent.txt"
   ]
  },
  {
   "cell_type": "code",
   "execution_count": 12,
   "metadata": {},
   "outputs": [
    {
     "name": "stdout",
     "output_type": "stream",
     "text": [
      "2008-08-11 20:21:15 UTC+0000|appevent.evt|DEMO-C442CF8FA3|N/A|LoadPerf|1000|Info|RSVP;QoS RSVP\n",
      "2008-08-11 20:21:16 UTC+0000|appevent.evt|DEMO-C442CF8FA3|N/A|LoadPerf|1000|Info|PSched;PSched\n",
      "2008-08-11 20:21:20 UTC+0000|appevent.evt|DEMO-C442CF8FA3|N/A|LoadPerf|1000|Info|RemoteAccess;Routing and Remote Access\n",
      "2008-08-11 20:24:41 UTC+0000|appevent.evt|DEMO-C442CF8FA3|N/A|LoadPerf|1000|Info|TermService;Terminal Services\n",
      "2008-08-11 20:24:43 UTC+0000|appevent.evt|DEMO-C442CF8FA3|N/A|LoadPerf|1000|Info|MSDTC;MSDTC\n",
      "2008-08-11 20:24:44 UTC+0000|appevent.evt|DEMO-C442CF8FA3|N/A|MSDTC|4104|Info|N/A\n",
      "2008-08-11 20:24:44 UTC+0000|appevent.evt|DEMO-C442CF8FA3|N/A|MSDTC|2444|Info|0;0;0;0;0;0\n",
      "2008-08-11 20:24:59 UTC+0000|appevent.evt|DEMO-C442CF8FA3|N/A|LoadPerf|1000|Info|WmiApRpl;WmiApRpl\n",
      "2008-08-11 20:25:00 UTC+0000|appevent.evt|DEMO-C442CF8FA3|N/A|LoadPerf|1001|Info|WmiApRpl;WmiApRpl\n",
      "2008-08-11 20:25:00 UTC+0000|appevent.evt|DEMO-C442CF8FA3|N/A|LoadPerf|1000|Info|WmiApRpl;WmiApRpl\n",
      "2008-08-11 20:25:09 UTC+0000|appevent.evt|DEMO-C442CF8FA3|S-1-5-18 (Local System)|WinMgmt|63|Warning|HiPerfCooker_v1;Root\\WMI\n",
      "2008-08-11 20:25:10 UTC+0000|appevent.evt|DEMO-C442CF8FA3|S-1-5-18 (Local System)|WinMgmt|63|Warning|CmdTriggerConsumer;Root\\cimv2\n",
      "2008-08-11 20:25:10 UTC+0000|appevent.evt|DEMO-C442CF8FA3|S-1-5-18 (Local System)|WinMgmt|63|Warning|CmdTriggerConsumer;Root\\cimv2\n",
      "2008-08-11 20:25:10 UTC+0000|appevent.evt|DEMO-C442CF8FA3|S-1-5-18 (Local System)|WinMgmt|5603|Warning|Rsop Planning Mode Provider;root\\RSOP\n",
      "2008-08-11 20:25:10 UTC+0000|appevent.evt|DEMO-C442CF8FA3|S-1-5-18 (Local System)|WinMgmt|5603|Warning|Rsop Planning Mode Provider;root\\RSOP\n",
      "2008-08-11 20:25:12 UTC+0000|appevent.evt|DEMO-C442CF8FA3|N/A|LoadPerf|1000|Info|ContentIndex;ContentIndex\n",
      "2008-08-11 20:25:12 UTC+0000|appevent.evt|DEMO-C442CF8FA3|N/A|LoadPerf|1000|Info|ContentFilter;ContentFilter\n",
      "2008-08-11 20:25:12 UTC+0000|appevent.evt|DEMO-C442CF8FA3|N/A|LoadPerf|1000|Info|ISAPISearch;ISAPISearch\n",
      "2008-08-11 20:27:11 UTC+0000|appevent.evt|DEMO-C442CF8FA3|S-1-5-18 (Local System)|WinMgmt|5603|Warning|Rsop Planning Mode Provider;root\\RSOP\n",
      "2008-08-11 20:27:11 UTC+0000|appevent.evt|DEMO-C442CF8FA3|S-1-5-18 (Local System)|WinMgmt|5603|Warning|Rsop Planning Mode Provider;root\\RSOP\n",
      "2008-08-11 20:27:17 UTC+0000|appevent.evt|DEMO-C442CF8FA3|N/A|COM+|4156|Info|First attemp to CoCreateInstance(CLSID_ComSystemAppEventData) failed!\n",
      "2008-08-11 20:27:17 UTC+0000|appevent.evt|DEMO-C442CF8FA3|N/A|COM+|4156|Info|Remove old EventClass(CLSID_ComSystemAppEventData) from event system!.\n",
      "2008-08-11 20:27:17 UTC+0000|appevent.evt|DEMO-C442CF8FA3|N/A|COM+|4156|Info|Added EventClass(CLSID_ComSystemAppEventData) to event \n"
     ]
    }
   ],
   "source": [
    "cat output/appevent.txt"
   ]
  },
  {
   "cell_type": "code",
   "execution_count": 15,
   "metadata": {},
   "outputs": [
    {
     "name": "stdout",
     "output_type": "stream",
     "text": []
    }
   ],
   "source": [
    "cat output/secevent.txt"
   ]
  },
  {
   "cell_type": "code",
   "execution_count": 16,
   "metadata": {},
   "outputs": [
    {
     "name": "stdout",
     "output_type": "stream",
     "text": []
    }
   ],
   "source": [
    "cat output/internet.txt"
   ]
  },
  {
   "cell_type": "markdown",
   "metadata": {},
   "source": [
    "You can also use this command to dump out the native `EVT` files with the option `--save-evt`. On newer operating systems you can dump the `EVTX` files using the dumpfiles command using the regex option `dumpfiles -D output/ -r evtx$ -i -S summary.txt`. These files can then be opened with other event log parsing tools such as Event Log Explorer or python-evtx. "
   ]
  }
 ],
 "metadata": {
  "kernelspec": {
   "display_name": "PowerShell",
   "language": "powershell",
   "name": "powershell"
  },
  "language_info": {
   "codemirror_mode": "shell",
   "file_extension": ".ps1",
   "mimetype": "text/x-sh",
   "name": "powershell"
  }
 },
 "nbformat": 4,
 "nbformat_minor": 2
}
