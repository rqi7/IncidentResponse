{
 "cells": [
  {
   "cell_type": "markdown",
   "metadata": {},
   "source": [
    "# Memory Collection"
   ]
  },
  {
   "cell_type": "markdown",
   "metadata": {},
   "source": [
    "The first step to live response collection is collecting memory. We will use `winpmem` to collect memory in this lab. To collect memory execute the following command:"
   ]
  },
  {
   "cell_type": "code",
   "execution_count": 2,
   "metadata": {},
   "outputs": [
    {
     "name": "stdout",
     "output_type": "stream",
     "text": [
      "WinPmem64\n",
      "Extracting driver to C:\\Users\\analyst\\AppData\\Local\\Temp\\pmeB2DB.tmp\n",
      "Driver Unloaded.\n",
      "Loaded Driver C:\\Users\\analyst\\AppData\\Local\\Temp\\pmeB2DB.tmp.\n",
      "Deleting C:\\Users\\analyst\\AppData\\Local\\Temp\\pmeB2DB.tmp\n",
      "The system time is: 18:44:53\n",
      "Will generate a RAW image \n",
      " - buffer_size_: 0x1000\n",
      "CR3: 0x00001AD002\n",
      " 6 memory ranges:\n",
      "Start 0x00001000 - Length 0x0009F000\n",
      "Start 0x00100000 - Length 0x0EDF1000\n",
      "Start 0x0EEFA000 - Length 0x00013000\n",
      "Start 0x0EF12000 - Length 0x0001A000\n",
      "Start 0x0EF31000 - Length 0x00FB6000\n",
      "Start 0x0FF77000 - Length 0x70089000\n",
      "max_physical_memory_ 0x80000000\n",
      "Acquitision mode PTE Remapping\n",
      "Padding from 0x00000000 to 0x00001000\n",
      "pad\n",
      " - length: 0x1000\n",
      "\n",
      "00% 0x00000000 .\n",
      "copy_memory\n",
      " - start: 0x1000\n",
      " - end: 0xa0000\n",
      "\n",
      "00% 0x00001000 .\n",
      "Padding from 0x000A0000 to 0x00100000\n",
      "pad\n",
      " - length: 0x60000\n",
      "\n",
      "00% 0x000A0000 .\n",
      "copy_memory\n",
      " - start: 0x100000\n",
      " - end: 0xeef1000\n",
      "\n",
      "00% 0x00100000 ...............\n",
      "Padding from 0x0EEF1000 to 0x0EEFA000\n",
      "pad\n",
      " - length: 0x9000\n",
      "\n",
      "11% 0x0EEF1000 .\n",
      "copy_memory\n",
      " - start: 0xeefa000\n",
      " - end: 0xef0d000\n",
      "\n",
      "11% 0x0EEFA000 .\n",
      "Padding from 0x0EF0D000 to 0x0EF12000\n",
      "pad\n",
      " - length: 0x5000\n",
      "\n",
      "11% 0x0EF0D000 .\n",
      "copy_memory\n",
      " - start: 0xef12000\n",
      " - end: 0xef2c000\n",
      "\n",
      "11% 0x0EF12000 .\n",
      "Padding from 0x0EF2C000 to 0x0EF31000\n",
      "pad\n",
      " - length: 0x5000\n",
      "\n",
      "11% 0x0EF2C000 .\n",
      "copy_memory\n",
      " - start: 0xef31000\n",
      " - end: 0xfee7000\n",
      "\n",
      "11% 0x0EF31000 .\n",
      "Padding from 0x0FEE7000 to 0x0FF77000\n",
      "pad\n",
      " - length: 0x90000\n",
      "\n",
      "12% 0x0FEE7000 .\n",
      "copy_memory\n",
      " - start: 0xff77000\n",
      " - end: 0x80000000\n",
      "\n",
      "12% 0x0FF77000 ..................................................\n",
      "51% 0x41F77000 ..................................................\n",
      "90% 0x73F77000 .............\n",
      "The system time is: 18:45:02\n",
      "Driver Unloaded.\n"
     ]
    }
   ],
   "source": [
    "E:\\winpmem.exe E:\\memoryimage.raw"
   ]
  },
  {
   "cell_type": "markdown",
   "metadata": {},
   "source": [
    "List the contents of the drive to see if the image worked"
   ]
  },
  {
   "cell_type": "code",
   "execution_count": 4,
   "metadata": {},
   "outputs": [
    {
     "name": "stdout",
     "output_type": "stream",
     "text": [
      "\n",
      "    Directory: E:\\\n",
      "\n",
      "Mode                 LastWriteTime         Length Name\n",
      "----                 -------------         ------ ----\n",
      "-a---           10/3/2021 12:45 PM     2147483648 memoryimage.raw\n",
      "-a---           10/3/2021 12:42 PM         527640 winpmem.exe\n",
      "\n"
     ]
    }
   ],
   "source": [
    "dir E:\\"
   ]
  }
 ],
 "metadata": {
  "kernelspec": {
   "display_name": ".NET (PowerShell)",
   "language": "PowerShell",
   "name": ".net-powershell"
  },
  "language_info": {
   "file_extension": ".ps1",
   "mimetype": "text/x-powershell",
   "name": "PowerShell",
   "pygments_lexer": "powershell",
   "version": "7.0"
  }
 },
 "nbformat": 4,
 "nbformat_minor": 2
}
