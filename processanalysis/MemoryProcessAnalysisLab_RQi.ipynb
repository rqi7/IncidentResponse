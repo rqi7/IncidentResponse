{
 "cells": [
  {
   "cell_type": "markdown",
   "metadata": {},
   "source": [
    "# Process Analysis Homework\n",
    "For this assignment you will be reviewing a memory image infected with APT malware. The image has been provided for you to download and is named `APT.img` For this assignment we will just be focused on reviwing processes and determining if any of them need more detailed analysis. First you must identify what profile to use with your analysis with the `imageinfo` command\n",
    "\n",
    "## Profile Identification"
   ]
  },
  {
   "cell_type": "code",
   "execution_count": 1,
   "metadata": {
    "dotnet_interactive": {
     "language": "powershell"
    },
    "polyglot_notebook": {
     "kernelName": "powershell"
    },
    "vscode": {
     "languageId": "polyglot-notebook"
    }
   },
   "outputs": [
    {
     "name": "stdout",
     "output_type": "stream",
     "text": [
      "Collecting yara\n",
      "  Downloading yara-1.7.7.tar.gz (387 kB)\n",
      "     -------------------------------------- 387.2/387.2 kB 3.4 MB/s eta 0:00:00\n",
      "  Preparing metadata (setup.py): started\n",
      "  Preparing metadata (setup.py): finished with status 'done'\n",
      "Building wheels for collected packages: yara\n",
      "  Building wheel for yara (setup.py): started\n",
      "  Building wheel for yara (setup.py): finished with status 'done'\n",
      "  Created wheel for yara: filename=yara-1.7.7-py3-none-any.whl size=90782 sha256=4c7250289fa56083a746eab212e655bdaad9bfed5014db0c637bc4a06b04ba0f\n",
      "  Stored in directory: c:\\users\\qrbbb\\appdata\\local\\pip\\cache\\wheels\\cc\\f8\\25\\97bad16a22c87448f2145e87e1c41042f9172345d09072fe28\n",
      "Successfully built yara\n",
      "Installing collected packages: yara\n",
      "Successfully installed yara-1.7.7\n"
     ]
    }
   ],
   "source": [
    "pip install yara"
   ]
  },
  {
   "cell_type": "code",
   "execution_count": 2,
   "metadata": {
    "dotnet_interactive": {
     "language": "powershell"
    },
    "polyglot_notebook": {
     "kernelName": "powershell"
    },
    "vscode": {
     "languageId": "polyglot-notebook"
    }
   },
   "outputs": [
    {
     "name": "stdout",
     "output_type": "stream",
     "text": [
      "Volatility 3 Framework 2.5.2\n",
      "usage: volatility [-h] [-c CONFIG] [--parallelism [{processes,threads,off}]]\n",
      "                  [-e EXTEND] [-p PLUGIN_DIRS] [-s SYMBOL_DIRS] [-v] [-l LOG]\n",
      "                  [-o OUTPUT_DIR] [-q] [-r RENDERER] [-f FILE]\n",
      "                  [--write-config] [--save-config SAVE_CONFIG] [--clear-cache]\n",
      "                  [--cache-path CACHE_PATH] [--offline]\n",
      "                  [--single-location SINGLE_LOCATION]\n",
      "                  [--stackers [STACKERS ...]]\n",
      "                  [--single-swap-locations [SINGLE_SWAP_LOCATIONS ...]]\n",
      "                  plugin ...\n",
      "\n",
      "An open-source memory forensics framework\n",
      "\n",
      "optional arguments:\n",
      "  -h, --help            Show this help message and exit, for specific plugin\n",
      "                        options use 'volatility <pluginname> --help'\n",
      "  -c CONFIG, --config CONFIG\n",
      "                        Load the configuration from a json file\n",
      "  --parallelism [{processes,threads,off}]\n",
      "                        Enables parallelism (defaults to off if no argument\n",
      "                        given)\n",
      "  -e EXTEND, --extend EXTEND\n",
      "                        Extend the configuration with a new (or changed)\n",
      "                        setting\n",
      "  -p PLUGIN_DIRS, --plugin-dirs PLUGIN_DIRS\n",
      "                        Semi-colon separated list of paths to find plugins\n",
      "  -s SYMBOL_DIRS, --symbol-dirs SYMBOL_DIRS\n",
      "                        Semi-colon separated list of paths to find symbols\n",
      "  -v, --verbosity       Increase output verbosity\n",
      "  -l LOG, --log LOG     Log output to a file as well as the console\n",
      "  -o OUTPUT_DIR, --output-dir OUTPUT_DIR\n",
      "                        Directory in which to output any generated files\n",
      "  -q, --quiet           Remove progress feedback\n",
      "  -r RENDERER, --renderer RENDERER\n",
      "                        Determines how to render the output (quick, none, csv,\n",
      "                        pretty, json, jsonl)\n",
      "  -f FILE, --file FILE  Shorthand for --single-location=file:// if single-\n",
      "                        location is not defined\n",
      "  --write-config        Write configuration JSON file out to config.json\n",
      "  --save-config SAVE_CONFIG\n",
      "                        Save configuration JSON file to a file\n",
      "  --clear-cache         Clears out all short-term cached items\n",
      "  --cache-path CACHE_PATH\n",
      "                        Change the default path\n",
      "                        (C:\\Users\\qrbbb\\AppData\\Roaming\\volatility3) used to\n",
      "                        store the cache\n",
      "  --offline             Do not search online for additional JSON files\n",
      "  --single-location SINGLE_LOCATION\n",
      "                        Specifies a base location on which to stack\n",
      "  --stackers [STACKERS ...]\n",
      "                        List of stackers\n",
      "  --single-swap-locations [SINGLE_SWAP_LOCATIONS ...]\n",
      "                        Specifies a list of swap layer URIs for use with\n",
      "                        single-location\n",
      "\n",
      "Plugins:\n",
      "  For plugin specific options, run 'volatility <plugin> --help'\n",
      "\n",
      "  plugin\n",
      "    banners.Banners     Attempts to identify potential linux banners in an\n",
      "                        image\n",
      "    configwriter.ConfigWriter\n",
      "                        Runs the automagics and both prints and outputs\n",
      "                        configuration in the output directory.\n",
      "    frameworkinfo.FrameworkInfo\n",
      "                        Plugin to list the various modular components of\n",
      "                        Volatility\n",
      "    isfinfo.IsfInfo     Determines information about the currently available\n",
      "                        ISF files, or a specific one\n",
      "    layerwriter.LayerWriter\n",
      "                        Runs the automagics and writes out the primary layer\n",
      "                        produced by the stacker.\n",
      "    linux.bash.Bash     Recovers bash command history from memory.\n",
      "    linux.capabilities.Capabilities\n",
      "                        Lists process capabilities\n",
      "    linux.check_afinfo.Check_afinfo\n",
      "                        Verifies the operation function pointers of network\n",
      "                        protocols.\n",
      "    linux.check_creds.Check_creds\n",
      "                        Checks if any processes are sharing credential\n",
      "                        structures\n",
      "    linux.check_idt.Check_idt\n",
      "                        Checks if the IDT has been altered\n",
      "    linux.check_modules.Check_modules\n",
      "                        Compares module list to sysfs info, if available\n",
      "    linux.check_syscall.Check_syscall\n",
      "                        Check system call table for hooks.\n",
      "    linux.elfs.Elfs     Lists all memory mapped ELF files for all processes.\n",
      "    linux.envars.Envars\n",
      "    linux.envvars.Envvars\n",
      "                        Lists processes with their environment variables\n",
      "    linux.iomem.IOMem   Generates an output similar to /proc/iomem on a\n",
      "                        running system.\n",
      "    linux.keyboard_notifiers.Keyboard_notifiers\n",
      "                        Parses the keyboard notifier call chain\n",
      "    linux.kmsg.Kmsg     Kernel log buffer reader\n",
      "    linux.lsmod.Lsmod   Lists loaded kernel modules.\n",
      "    linux.lsof.Lsof     Lists all memory maps for all processes.\n",
      "    linux.malfind.Malfind\n",
      "                        Lists process memory ranges that potentially contain\n",
      "                        injected code.\n",
      "    linux.mountinfo.MountInfo\n",
      "                        Lists mount points on processes mount namespaces\n",
      "    linux.proc.Maps     Lists all memory maps for all processes.\n",
      "    linux.psaux.PsAux   Lists processes with their command line arguments\n",
      "    linux.pslist.PsList\n",
      "                        Lists the processes present in a particular linux\n",
      "                        memory image.\n",
      "    linux.psscan.PsScan\n",
      "                        Scans for processes present in a particular linux\n",
      "                        image.\n",
      "    linux.pstree.PsTree\n",
      "                        Plugin for listing processes in a tree based on their\n",
      "                        parent process ID.\n",
      "    linux.sockstat.Sockstat\n",
      "                        Lists all network connections for all processes.\n",
      "    linux.tty_check.tty_check\n",
      "                        Checks tty devices for hooks\n",
      "    mac.bash.Bash       Recovers bash command history from memory.\n",
      "    mac.check_syscall.Check_syscall\n",
      "                        Check system call table for hooks.\n",
      "    mac.check_sysctl.Check_sysctl\n",
      "                        Check sysctl handlers for hooks.\n",
      "    mac.check_trap_table.Check_trap_table\n",
      "                        Check mach trap table for hooks.\n",
      "    mac.ifconfig.Ifconfig\n",
      "                        Lists network interface information for all devices\n",
      "    mac.kauth_listeners.Kauth_listeners\n",
      "                        Lists kauth listeners and their status\n",
      "    mac.kauth_scopes.Kauth_scopes\n",
      "                        Lists kauth scopes and their status\n",
      "    mac.kevents.Kevents\n",
      "                        Lists event handlers registered by processes\n",
      "    mac.list_files.List_Files\n",
      "                        Lists all open file descriptors for all processes.\n",
      "    mac.lsmod.Lsmod     Lists loaded kernel modules.\n",
      "    mac.lsof.Lsof       Lists all open file descriptors for all processes.\n",
      "    mac.malfind.Malfind\n",
      "                        Lists process memory ranges that potentially contain\n",
      "                        injected code.\n",
      "    mac.mount.Mount     A module containing a collection of plugins that\n",
      "                        produce data typically found in Mac's mount command\n",
      "    mac.netstat.Netstat\n",
      "                        Lists all network connections for all processes.\n",
      "    mac.proc_maps.Maps  Lists process memory ranges that potentially contain\n",
      "                        injected code.\n",
      "    mac.psaux.Psaux     Recovers program command line arguments.\n",
      "    mac.pslist.PsList   Lists the processes present in a particular mac memory\n",
      "                        image.\n",
      "    mac.pstree.PsTree   Plugin for listing processes in a tree based on their\n",
      "                        parent process ID.\n",
      "    mac.socket_filters.Socket_filters\n",
      "                        Enumerates kernel socket filters.\n",
      "    mac.timers.Timers   Check for malicious kernel timers.\n",
      "    mac.trustedbsd.Trustedbsd\n",
      "                        Checks for malicious trustedbsd modules\n",
      "    mac.vfsevents.VFSevents\n",
      "                        Lists processes that are filtering file system events\n",
      "    timeliner.Timeliner\n",
      "                        Runs all relevant plugins that provide time related\n",
      "                        information and orders the results by time.\n",
      "    windows.bigpools.BigPools\n",
      "                        List big page pools.\n",
      "    windows.cachedump.Cachedump\n",
      "                        Dumps lsa secrets from memory\n",
      "    windows.callbacks.Callbacks\n",
      "                        Lists kernel callbacks and notification routines.\n",
      "    windows.cmdline.CmdLine\n",
      "                        Lists process command line arguments.\n",
      "    windows.crashinfo.Crashinfo\n",
      "                        Lists the information from a Windows crash dump.\n",
      "    windows.devicetree.DeviceTree\n",
      "                        Listing tree based on drivers and attached devices in\n",
      "                        a particular windows memory image.\n",
      "    windows.dlllist.DllList\n",
      "                        Lists the loaded modules in a particular windows\n",
      "                        memory image.\n",
      "    windows.driverirp.DriverIrp\n",
      "                        List IRPs for drivers in a particular windows memory\n",
      "                        image.\n",
      "    windows.drivermodule.DriverModule\n",
      "                        Determines if any loaded drivers were hidden by a\n",
      "                        rootkit\n",
      "    windows.driverscan.DriverScan\n",
      "                        Scans for drivers present in a particular windows\n",
      "                        memory image.\n",
      "    windows.dumpfiles.DumpFiles\n",
      "                        Dumps cached file contents from Windows memory\n",
      "                        samples.\n",
      "    windows.envars.Envars\n",
      "                        Display process environment variables\n",
      "    windows.filescan.FileScan\n",
      "                        Scans for file objects present in a particular windows\n",
      "                        memory image.\n",
      "    windows.getservicesids.GetServiceSIDs\n",
      "                        Lists process token sids.\n",
      "    windows.getsids.GetSIDs\n",
      "                        Print the SIDs owning each process\n",
      "    windows.handles.Handles\n",
      "                        Lists process open handles.\n",
      "    windows.hashdump.Hashdump\n",
      "                        Dumps user hashes from memory\n",
      "    windows.info.Info   Show OS & kernel details of the memory sample being\n",
      "                        analyzed.\n",
      "    windows.joblinks.JobLinks\n",
      "                        Print process job link information\n",
      "    windows.ldrmodules.LdrModules\n",
      "                        Lists the loaded modules in a particular windows\n",
      "                        memory image.\n",
      "    windows.lsadump.Lsadump\n",
      "                        Dumps lsa secrets from memory\n",
      "    windows.malfind.Malfind\n",
      "                        Lists process memory ranges that potentially contain\n",
      "                        injected code.\n",
      "    windows.mbrscan.MBRScan\n",
      "                        Scans for and parses potential Master Boot Records\n",
      "                        (MBRs)\n",
      "    windows.memmap.Memmap\n",
      "                        Prints the memory map\n",
      "    windows.mftscan.MFTScan\n",
      "                        Scans for MFT FILE objects present in a particular\n",
      "                        windows memory image.\n",
      "    windows.modscan.ModScan\n",
      "                        Scans for modules present in a particular windows\n",
      "                        memory image.\n",
      "    windows.modules.Modules\n",
      "                        Lists the loaded kernel modules.\n",
      "    windows.mutantscan.MutantScan\n",
      "                        Scans for mutexes present in a particular windows\n",
      "                        memory image.\n",
      "    windows.netscan.NetScan\n",
      "                        Scans for network objects present in a particular\n",
      "                        windows memory image.\n",
      "    windows.netstat.NetStat\n",
      "                        Traverses network tracking structures present in a\n",
      "                        particular windows memory image.\n",
      "    windows.poolscanner.PoolScanner\n",
      "                        A generic pool scanner plugin.\n",
      "    windows.privileges.Privs\n",
      "                        Lists process token privileges\n",
      "    windows.pslist.PsList\n",
      "                        Lists the processes present in a particular windows\n",
      "                        memory image.\n",
      "    windows.psscan.PsScan\n",
      "                        Scans for processes present in a particular windows\n",
      "                        memory image.\n",
      "    windows.pstree.PsTree\n",
      "                        Plugin for listing processes in a tree based on their\n",
      "                        parent process ID.\n",
      "    windows.registry.certificates.Certificates\n",
      "                        Lists the certificates in the registry's Certificate\n",
      "                        Store.\n",
      "    windows.registry.hivelist.HiveList\n",
      "                        Lists the registry hives present in a particular\n",
      "                        memory image.\n",
      "    windows.registry.hivescan.HiveScan\n",
      "                        Scans for registry hives present in a particular\n",
      "                        windows memory image.\n",
      "    windows.registry.printkey.PrintKey\n",
      "                        Lists the registry keys under a hive or specific key\n",
      "                        value.\n",
      "    windows.registry.userassist.UserAssist\n",
      "                        Print userassist registry keys and information.\n",
      "    windows.sessions.Sessions\n",
      "                        lists Processes with Session information extracted\n",
      "                        from Environmental Variables\n",
      "    windows.skeleton_key_check.Skeleton_Key_Check\n",
      "                        Looks for signs of Skeleton Key malware\n",
      "    windows.ssdt.SSDT   Lists the system call table.\n",
      "    windows.statistics.Statistics\n",
      "                        Lists statistics about the memory space.\n",
      "    windows.strings.Strings\n",
      "                        Reads output from the strings command and indicates\n",
      "                        which process(es) each string belongs to.\n",
      "    windows.svcscan.SvcScan\n",
      "                        Scans for windows services.\n",
      "    windows.symlinkscan.SymlinkScan\n",
      "                        Scans for links present in a particular windows memory\n",
      "                        image.\n",
      "    windows.vadinfo.VadInfo\n",
      "                        Lists process memory ranges.\n",
      "    windows.vadwalk.VadWalk\n",
      "                        Walk the VAD tree.\n",
      "    windows.vadyarascan.VadYaraScan\n",
      "                        Scans all the Virtual Address Descriptor memory maps\n",
      "                        using yara.\n",
      "    windows.verinfo.VerInfo\n",
      "                        Lists version information from PE files.\n",
      "    windows.virtmap.VirtMap\n",
      "                        Lists virtual mapped sections.\n",
      "    yarascan.YaraScan   Scans kernel memory using yara rules (string or file).\n"
     ]
    }
   ],
   "source": [
    "python ../../volatility3/vol.py -h"
   ]
  },
  {
   "cell_type": "code",
   "execution_count": 2,
   "metadata": {
    "dotnet_interactive": {
     "language": "powershell"
    },
    "polyglot_notebook": {
     "kernelName": "powershell"
    },
    "vscode": {
     "languageId": "polyglot-notebook"
    }
   },
   "outputs": [
    {
     "name": "stdout",
     "output_type": "stream",
     "text": [
      "\u001b[31;1mINFO     volatility3.cli: Volatility plugins path: ['C:\\\\Users\\\\qrbbb\\\\OneDrive\\\\Documents\\\\cybs\\\\volatility3\\\\volatility3\\\\plugins', 'C:\\\\Users\\\\qrbbb\\\\OneDrive\\\\Documents\\\\cybs\\\\volatility3\\\\volatility3\\\\framework\\\\plugins']\u001b[0m\n",
      "\u001b[31;1mINFO     volatility3.cli: Volatility symbols path: ['C:\\\\Users\\\\qrbbb\\\\OneDrive\\\\Documents\\\\cybs\\\\volatility3\\\\volatility3\\\\symbols', 'C:\\\\Users\\\\qrbbb\\\\OneDrive\\\\Documents\\\\cybs\\\\volatility3\\\\volatility3\\\\framework\\\\symbols']\u001b[0m\n",
      "\u001b[31;1musage: volatility [-h] [-c CONFIG] [--parallelism [{processes,threads,off}]]\u001b[0m\n",
      "\u001b[31;1m                  [-e EXTEND] [-p PLUGIN_DIRS] [-s SYMBOL_DIRS] [-v] [-l LOG]\u001b[0m\n",
      "\u001b[31;1m                  [-o OUTPUT_DIR] [-q] [-r RENDERER] [-f FILE]\u001b[0m\n",
      "\u001b[31;1m                  [--write-config] [--save-config SAVE_CONFIG] [--clear-cache]\u001b[0m\n",
      "\u001b[31;1m                  [--cache-path CACHE_PATH] [--offline]\u001b[0m\n",
      "\u001b[31;1m                  [--single-location SINGLE_LOCATION]\u001b[0m\n",
      "\u001b[31;1m                  [--stackers [STACKERS ...]]\u001b[0m\n",
      "\u001b[31;1m                  [--single-swap-locations [SINGLE_SWAP_LOCATIONS ...]]\u001b[0m\n",
      "\u001b[31;1m                  plugin ...\u001b[0m\n",
      "Volatility 3 Framework 2.5.2\n",
      "\u001b[31;1mvolatility: error: Please select a plugin to run\u001b[0m\n"
     ]
    },
    {
     "ename": "Error",
     "evalue": "Command failed: SubmitCode: python ../../volatility3/vol.py -vv",
     "output_type": "error",
     "traceback": [
      "Command failed: SubmitCode: python ../../volatility3/vol.py -vv"
     ]
    }
   ],
   "source": [
    "python ../../volatility3/vol.py -vv"
   ]
  },
  {
   "cell_type": "code",
   "execution_count": 3,
   "metadata": {
    "dotnet_interactive": {
     "language": "powershell"
    },
    "polyglot_notebook": {
     "kernelName": "powershell"
    },
    "vscode": {
     "languageId": "polyglot-notebook"
    }
   },
   "outputs": [
    {
     "name": "stdout",
     "output_type": "stream",
     "text": [
      "\u001b[31;1mDEBUG:urllib3.connectionpool:Starting new HTTPS connection (1): repo.anaconda.com:443\u001b[0m\n",
      "\u001b[31;1mDEBUG:urllib3.connectionpool:Starting new HTTPS connection (1): repo.anaconda.com:443\u001b[0m\n",
      "\u001b[31;1mDEBUG:urllib3.connectionpool:Starting new HTTPS connection (1): repo.anaconda.com:443\u001b[0m\n",
      "\u001b[31;1mDEBUG:urllib3.connectionpool:Starting new HTTPS connection (1): repo.anaconda.com:443\u001b[0m\n",
      "\u001b[31;1mDEBUG:urllib3.connectionpool:Starting new HTTPS connection (1): repo.anaconda.com:443\u001b[0m\n",
      "\u001b[31;1mDEBUG:urllib3.connectionpool:Starting new HTTPS connection (1): repo.anaconda.com:443\u001b[0m\n",
      "\u001b[31;1mDEBUG:urllib3.connectionpool:https://repo.anaconda.com:443 \"GET /pkgs/main/win-64/current_repodata.json HTTP/1.1\" 304 0\u001b[0m\n",
      "\u001b[31;1mDEBUG:urllib3.connectionpool:https://repo.anaconda.com:443 \"GET /pkgs/r/win-64/current_repodata.json HTTP/1.1\" 304 0\u001b[0m\n",
      "\u001b[31;1mDEBUG:urllib3.connectionpool:https://repo.anaconda.com:443 \"GET /pkgs/main/noarch/current_repodata.json HTTP/1.1\" 304 0\u001b[0m\n",
      "\u001b[31;1mDEBUG:urllib3.connectionpool:https://repo.anaconda.com:443 \"GET /pkgs/msys2/noarch/current_repodata.json HTTP/1.1\" 304 0\u001b[0m\n",
      "\u001b[31;1mDEBUG:urllib3.connectionpool:https://repo.anaconda.com:443 \"GET /pkgs/msys2/win-64/current_repodata.json HTTP/1.1\" 304 0\u001b[0m\n",
      "\u001b[31;1mDEBUG:urllib3.connectionpool:https://repo.anaconda.com:443 \"GET /pkgs/r/noarch/current_repodata.json HTTP/1.1\" 304 0\u001b[0m\n",
      "Collecting package metadata (current_repodata.json): ...working... done\n",
      "Solving environment: ...working... done\n",
      "\u001b[31;1m\u001b[0m\n",
      "\u001b[31;1m\u001b[0m\n",
      "\u001b[31;1m==> WARNING: A newer version of conda exists. <==\u001b[0m\n",
      "\u001b[31;1m  current version: 23.7.2\u001b[0m\n",
      "\u001b[31;1m  latest version: 23.9.0\u001b[0m\n",
      "\u001b[31;1m\u001b[0m\n",
      "\u001b[31;1mPlease update conda by running\u001b[0m\n",
      "\u001b[31;1m\u001b[0m\n",
      "\u001b[31;1m    $ conda update -n base -c defaults conda\u001b[0m\n",
      "\u001b[31;1m\u001b[0m\n",
      "\u001b[31;1mOr to minimize the number of packages updated during conda update use\u001b[0m\n",
      "\u001b[31;1m\u001b[0m\n",
      "\u001b[31;1m     conda install conda=23.9.0\u001b[0m\n",
      "\u001b[31;1m\u001b[0m\n",
      "\u001b[31;1m\u001b[0m\n",
      "\n",
      "## Package Plan ##\n",
      "\n",
      "  environment location: C:\\Users\\qrbbb\\anaconda3\n",
      "\n",
      "  added / updated specs:\n",
      "    - pefile\n",
      "\n",
      "\n",
      "The following packages will be downloaded:\n",
      "\n",
      "    package                    |            build\n",
      "    ---------------------------|-----------------\n",
      "    ca-certificates-2023.08.22 |       haa95532_0         123 KB\n",
      "    conda-content-trust-0.2.0  |  py311haa95532_0          82 KB\n",
      "    openssl-1.1.1w             |       h2bbff1b_0         5.5 MB\n",
      "    pefile-2022.5.30           |  py311haa95532_0         158 KB\n",
      "    ------------------------------------------------------------\n",
      "                                           Total:         5.9 MB\n",
      "\n",
      "The following NEW packages will be INSTALLED:\n",
      "\n",
      "  pefile             pkgs/main/win-64::pefile-2022.5.30-py311haa95532_0 \n",
      "\n",
      "The following packages will be UPDATED:\n",
      "\n",
      "  ca-certificates                     2023.05.30-haa95532_0 --> 2023.08.22-haa95532_0 \n",
      "  conda-content-tru~ pkgs/main/noarch::conda-content-trust~ --> pkgs/main/win-64::conda-content-trust-0.2.0-py311haa95532_0 \n",
      "  openssl                                 1.1.1u-h2bbff1b_0 --> 1.1.1w-h2bbff1b_0 \n",
      "\n",
      "\n",
      "Proceed ([y]/n)? \n",
      "\n",
      "Downloading and Extracting Packages\n",
      "\n",
      "openssl-1.1.1w       | 5.5 MB    |            |   0% \n",
      "\n",
      "ca-certificates-2023 | 123 KB    |            |   0% \u001b[A\n",
      "\n",
      "\n",
      "conda-content-trust- | 82 KB     |            |   0% \u001b[A\u001b[A\n",
      "\n",
      "\n",
      "\n",
      "\u001b[31;1mDEBUG:urllib3.connectionpool:Starting new HTTPS connection (1): repo.anaconda.com:443\u001b[0m\n",
      "\u001b[31;1mDEBUG:urllib3.connectionpool:Starting new HTTPS connection (1): repo.anaconda.com:443\u001b[0m\n",
      "\u001b[31;1mDEBUG:urllib3.connectionpool:Starting new HTTPS connection (1): repo.anaconda.com:443\u001b[0m\n",
      "\u001b[31;1mDEBUG:urllib3.connectionpool:Starting new HTTPS connection (1): repo.anaconda.com:443\u001b[0m\n",
      "\u001b[31;1mDEBUG:urllib3.connectionpool:https://repo.anaconda.com:443 \"GET /pkgs/main/win-64/ca-certificates-2023.08.22-haa95532_0.conda HTTP/1.1\" 200 126244\u001b[0m\n",
      "pefile-2022.5.30     | 158 KB    |            |   0% \u001b[A\u001b[A\u001b[A\n",
      "\n",
      "\u001b[31;1mDEBUG:urllib3.connectionpool:https://repo.anaconda.com:443 \"GET /pkgs/main/win-64/pefile-2022.5.30-py311haa95532_0.conda HTTP/1.1\" 200 161538\u001b[0m\n",
      "ca-certificates-2023 | 123 KB    | #2         |  13% \u001b[A\n",
      "\n",
      "\n",
      "\n",
      "\u001b[31;1mDEBUG:urllib3.connectionpool:https://repo.anaconda.com:443 \"GET /pkgs/main/win-64/conda-content-trust-0.2.0-py311haa95532_0.conda HTTP/1.1\" 200 83597\u001b[0m\n",
      "pefile-2022.5.30     | 158 KB    | #          |  10% \u001b[A\u001b[A\u001b[A\n",
      "\n",
      "\n",
      "\u001b[31;1mDEBUG:urllib3.connectionpool:https://repo.anaconda.com:443 \"GET /pkgs/main/win-64/openssl-1.1.1w-h2bbff1b_0.conda HTTP/1.1\" 200 5763830\u001b[0m\n",
      "conda-content-trust- | 82 KB     | #9         |  20% \u001b[A\u001b[A\n",
      "openssl-1.1.1w       | 5.5 MB    |            |   0% \n",
      "openssl-1.1.1w       | 5.5 MB    | 9          |   9% \n",
      "openssl-1.1.1w       | 5.5 MB    | ##5        |  26% \n",
      "\n",
      "ca-certificates-2023 | 123 KB    | ########## | 100% \u001b[A\n",
      "\n",
      "ca-certificates-2023 | 123 KB    | ########## | 100% \u001b[A\n",
      "openssl-1.1.1w       | 5.5 MB    | ####       |  41% \n",
      "\n",
      "\n",
      "\n",
      "pefile-2022.5.30     | 158 KB    | ########## | 100% \u001b[A\u001b[A\u001b[A\n",
      "\n",
      "\n",
      "\n",
      "pefile-2022.5.30     | 158 KB    | ########## | 100% \u001b[A\u001b[A\u001b[A\n",
      "\n",
      "\n",
      "conda-content-trust- | 82 KB     | ########## | 100% \u001b[A\u001b[A\n",
      "\n",
      "\n",
      "conda-content-trust- | 82 KB     | ########## | 100% \u001b[A\u001b[A\n",
      "openssl-1.1.1w       | 5.5 MB    | ######9    |  70% \n",
      "openssl-1.1.1w       | 5.5 MB    | #########7 |  97% \n",
      "openssl-1.1.1w       | 5.5 MB    | ########## | 100% \n",
      "                                                     \n",
      "\n",
      "\n",
      "                                                     \u001b[A\n",
      "\n",
      "\n",
      "                                                     \u001b[A\u001b[A\n",
      "\n",
      "\n",
      "\n",
      "                                                     \u001b[A\u001b[A\u001b[A\n",
      "\n",
      "Preparing transaction: ...working... done\n",
      "Verifying transaction: ...working... done\n",
      "Executing transaction: ...working... done\n"
     ]
    }
   ],
   "source": [
    "conda install pefile"
   ]
  },
  {
   "cell_type": "code",
   "execution_count": 4,
   "metadata": {
    "dotnet_interactive": {
     "language": "powershell"
    },
    "polyglot_notebook": {
     "kernelName": "powershell"
    },
    "vscode": {
     "languageId": "polyglot-notebook"
    }
   },
   "outputs": [
    {
     "name": "stdout",
     "output_type": "stream",
     "text": [
      "Volatility 3 Framework 2.5.2\n",
      "\n",
      "Variable\tValue\n",
      "\n",
      "Kernel Base\t0x804d7000\n",
      "DTB\t0x319000\n",
      "Symbols\tfile:///C:/Users/qrbbb/OneDrive/Documents/cybs/volatility3/volatility3/symbols/windows/ntkrnlpa.pdb/FD7B256CD2D14BC0B35BA9B89F691346-1.json.xz\n",
      "Is64Bit\tFalse\n",
      "IsPAE\tTrue\n",
      "layer_name\t0 WindowsIntelPAE\n",
      "memory_layer\t1 FileLayer\n",
      "KdDebuggerDataBlock\t0x80545b60\n",
      "NTBuildLab\t2600.xpsp_sp3_gdr.080814-1236\n",
      "CSDVersion\t3\n",
      "KdVersionBlock\t0x80545b38\n",
      "Major/Minor\t15.2600\n",
      "MachineType\t332\n",
      "KeNumberProcessors\t1\n",
      "SystemTime\t2009-05-05 19:28:57\n",
      "NtSystemRoot\tC:\\WINDOWS\n",
      "NtProductType\tNtProductWinNt\n",
      "NtMajorVersion\t5\n",
      "NtMinorVersion\t1\n",
      "PE MajorOperatingSystemVersion\t5\n",
      "PE MinorOperatingSystemVersion\t1\n",
      "PE Machine\t332\n",
      "PE TimeDateStamp\tThu Aug 14 09:33:12 2008\n"
     ]
    }
   ],
   "source": [
    "python ../../volatility3/vol.py -q -f C:\\Users\\qrbbb\\Downloads\\APT.img windows.info.Info"
   ]
  },
  {
   "cell_type": "markdown",
   "metadata": {},
   "source": [
    "Now that you know the profile use that to review the following process analysis with volatility:\n",
    " * `plist`\n",
    " * `pstree`\n",
    " * `psscan`\n",
    " \n",
    " Document any of your findings of supicious processes in line and make sure to document each analysis execution.\n",
    " \n",
    " ## PSLIST"
   ]
  },
  {
   "cell_type": "code",
   "execution_count": 5,
   "metadata": {
    "dotnet_interactive": {
     "language": "powershell"
    },
    "polyglot_notebook": {
     "kernelName": "powershell"
    },
    "vscode": {
     "languageId": "polyglot-notebook"
    }
   },
   "outputs": [
    {
     "name": "stdout",
     "output_type": "stream",
     "text": [
      "Volatility 3 Framework 2.5.2\n",
      "\n",
      "PID\tPPID\tImageFileName\tOffset(V)\tThreads\tHandles\tSessionId\tWow64\tCreateTime\tExitTime\tFile output\n",
      "\n",
      "4\t0\tSystem\t0x823c8830\t55\t254\tN/A\tFalse\tN/A\tN/A\tDisabled\n",
      "564\t4\tsmss.exe\t0x8230aad8\t3\t19\tN/A\tFalse\t2009-04-16 16:10:01.000000 \tN/A\tDisabled\n",
      "636\t564\tcsrss.exe\t0x822ca2c0\t10\t356\t0\tFalse\t2009-04-16 16:10:06.000000 \tN/A\tDisabled\n",
      "660\t564\twinlogon.exe\t0x81f63020\t16\t502\t0\tFalse\t2009-04-16 16:10:06.000000 \tN/A\tDisabled\n",
      "704\t660\tservices.exe\t0x81f22020\t15\t254\t0\tFalse\t2009-04-16 16:10:06.000000 \tN/A\tDisabled\n",
      "716\t660\tlsass.exe\t0x82164da0\t21\t342\t0\tFalse\t2009-04-16 16:10:06.000000 \tN/A\tDisabled\n",
      "872\t704\tvmacthlp.exe\t0x822cb458\t1\t25\t0\tFalse\t2009-04-16 16:10:07.000000 \tN/A\tDisabled\n",
      "884\t704\tsvchost.exe\t0x81e54da0\t17\t208\t0\tFalse\t2009-04-16 16:10:07.000000 \tN/A\tDisabled\n",
      "968\t704\tsvchost.exe\t0x81da4590\t10\t241\t0\tFalse\t2009-04-16 16:10:07.000000 \tN/A\tDisabled\n",
      "1088\t704\tsvchost.exe\t0x81f739b0\t70\t1445\t0\tFalse\t2009-04-16 16:10:07.000000 \tN/A\tDisabled\n",
      "1140\t704\tsvchost.exe\t0x8232c020\t5\t60\t0\tFalse\t2009-04-16 16:10:08.000000 \tN/A\tDisabled\n",
      "1212\t704\tsvchost.exe\t0x81e91da0\t14\t208\t0\tFalse\t2009-04-16 16:10:09.000000 \tN/A\tDisabled\n",
      "1512\t704\tspoolsv.exe\t0x8219b630\t10\t129\t0\tFalse\t2009-04-16 16:10:10.000000 \tN/A\tDisabled\n",
      "1672\t1624\texplorer.exe\t0x81da71a8\t15\t586\t0\tFalse\t2009-04-16 16:10:10.000000 \tN/A\tDisabled\n",
      "1984\t1672\tVMwareTray.exe\t0x81f1c7e8\t1\t37\t0\tFalse\t2009-04-16 16:10:11.000000 \tN/A\tDisabled\n",
      "2004\t1672\tVMwareUser.exe\t0x81dc1a78\t8\t228\t0\tFalse\t2009-04-16 16:10:11.000000 \tN/A\tDisabled\n",
      "2020\t1672\tctfmon.exe\t0x81f1a650\t1\t71\t0\tFalse\t2009-04-16 16:10:11.000000 \tN/A\tDisabled\n",
      "1032\t704\tVMwareService.e\t0x81dc2570\t3\t175\t0\tFalse\t2009-04-16 16:10:16.000000 \tN/A\tDisabled\n",
      "464\t704\talg.exe\t0x81d33628\t6\t105\t0\tFalse\t2009-04-16 16:10:21.000000 \tN/A\tDisabled\n",
      "1260\t1088\twscntfy.exe\t0x81f96220\t1\t39\t0\tFalse\t2009-04-16 16:10:22.000000 \tN/A\tDisabled\n",
      "1464\t704\tmsiexec.exe\t0x8231eda0\t6\t294\t0\tFalse\t2009-04-16 16:11:02.000000 \tN/A\tDisabled\n",
      "840\t1672\tcmd.exe\t0x81e4d648\t1\t33\t0\tFalse\t2009-05-05 15:56:24.000000 \tN/A\tDisabled\n",
      "796\t884\tiexplore.exe\t0x81dbdda0\t8\t152\t0\tFalse\t2009-05-05 19:28:28.000000 \tN/A\tDisabled\n",
      "456\t840\tMIRAgent.exe\t0x82161558\t1\t77\t0\tFalse\t2009-05-05 19:28:40.000000 \tN/A\tDisabled\n"
     ]
    }
   ],
   "source": [
    "python ../../volatility3/vol.py -q -f C:\\Users\\qrbbb\\Downloads\\APT.img windows.pslist.PsList"
   ]
  },
  {
   "cell_type": "code",
   "execution_count": 8,
   "metadata": {
    "dotnet_interactive": {
     "language": "powershell"
    },
    "polyglot_notebook": {
     "kernelName": "powershell"
    },
    "vscode": {
     "languageId": "polyglot-notebook"
    }
   },
   "outputs": [
    {
     "name": "stdout",
     "output_type": "stream",
     "text": [
      "\u001b[31;1mVolatility 3 Framework 2.5.2\u001b[0m\n",
      "|   PID |  PPID | ImageFileName   | Threads | Handles |          CreateTime | ExitTime |\n",
      "| ----- | ----- | --------------- | ------- | ------- | ------------------- | -------- |\n",
      "|     4 |     0 | System          |      55 |     254 |                     |          |\n",
      "|   564 |     4 | smss.exe        |       3 |      19 | 2009-04-16 16:10:01 |          |\n",
      "|   636 |   564 | csrss.exe       |      10 |     356 | 2009-04-16 16:10:06 |          |\n",
      "|   660 |   564 | winlogon.exe    |      16 |     502 | 2009-04-16 16:10:06 |          |\n",
      "|   704 |   660 | services.exe    |      15 |     254 | 2009-04-16 16:10:06 |          |\n",
      "|   716 |   660 | lsass.exe       |      21 |     342 | 2009-04-16 16:10:06 |          |\n",
      "|   872 |   704 | vmacthlp.exe    |       1 |      25 | 2009-04-16 16:10:07 |          |\n",
      "|   884 |   704 | svchost.exe     |      17 |     208 | 2009-04-16 16:10:07 |          |\n",
      "|   968 |   704 | svchost.exe     |      10 |     241 | 2009-04-16 16:10:07 |          |\n",
      "| 1,088 |   704 | svchost.exe     |      70 |   1,445 | 2009-04-16 16:10:07 |          |\n",
      "| 1,140 |   704 | svchost.exe     |       5 |      60 | 2009-04-16 16:10:08 |          |\n",
      "| 1,212 |   704 | svchost.exe     |      14 |     208 | 2009-04-16 16:10:09 |          |\n",
      "| 1,512 |   704 | spoolsv.exe     |      10 |     129 | 2009-04-16 16:10:10 |          |\n",
      "| 1,672 | 1,624 | explorer.exe    |      15 |     586 | 2009-04-16 16:10:10 |          |\n",
      "| 1,984 | 1,672 | VMwareTray.exe  |       1 |      37 | 2009-04-16 16:10:11 |          |\n",
      "| 2,004 | 1,672 | VMwareUser.exe  |       8 |     228 | 2009-04-16 16:10:11 |          |\n",
      "| 2,020 | 1,672 | ctfmon.exe      |       1 |      71 | 2009-04-16 16:10:11 |          |\n",
      "| 1,032 |   704 | VMwareService.e |       3 |     175 | 2009-04-16 16:10:16 |          |\n",
      "|   464 |   704 | alg.exe         |       6 |     105 | 2009-04-16 16:10:21 |          |\n",
      "| 1,260 | 1,088 | wscntfy.exe     |       1 |      39 | 2009-04-16 16:10:22 |          |\n",
      "| 1,464 |   704 | msiexec.exe     |       6 |     294 | 2009-04-16 16:11:02 |          |\n",
      "|   840 | 1,672 | cmd.exe         |       1 |      33 | 2009-05-05 15:56:24 |          |\n",
      "|   796 |   884 | iexplore.exe    |       8 |     152 | 2009-05-05 19:28:28 |          |\n",
      "|   456 |   840 | MIRAgent.exe    |       1 |      77 | 2009-05-05 19:28:40 |          |\n",
      "|       |       |                 |         |         |                     |          |\n"
     ]
    }
   ],
   "source": [
    "python ../../volatility3/vol.py -q -r csv -f C:\\Users\\qrbbb\\Downloads\\APT.img windows.pslist.PsList | csvcut -c 2,3,4,6,7,10,11 | csvlook"
   ]
  },
  {
   "cell_type": "markdown",
   "metadata": {},
   "source": [
    "## PSTREE"
   ]
  },
  {
   "cell_type": "code",
   "execution_count": 9,
   "metadata": {
    "dotnet_interactive": {
     "language": "powershell"
    },
    "polyglot_notebook": {
     "kernelName": "powershell"
    },
    "vscode": {
     "languageId": "polyglot-notebook"
    }
   },
   "outputs": [
    {
     "name": "stdout",
     "output_type": "stream",
     "text": [
      "Volatility 3 Framework 2.5.2\n",
      "\n",
      "PID\tPPID\tImageFileName\tOffset(V)\tThreads\tHandles\tSessionId\tWow64\tCreateTime\tExitTime\n",
      "\n",
      "4\t0\tSystem\t0x823c8830\t55\t254\tN/A\tFalse\tN/A\tN/A\n",
      "* 564\t4\tsmss.exe\t0x8230aad8\t3\t19\tN/A\tFalse\t2009-04-16 16:10:01.000000 \tN/A\n",
      "** 660\t564\twinlogon.exe\t0x81f63020\t16\t502\t0\tFalse\t2009-04-16 16:10:06.000000 \tN/A\n",
      "*** 704\t660\tservices.exe\t0x81f22020\t15\t254\t0\tFalse\t2009-04-16 16:10:06.000000 \tN/A\n",
      "**** 1088\t704\tsvchost.exe\t0x81f739b0\t70\t1445\t0\tFalse\t2009-04-16 16:10:07.000000 \tN/A\n",
      "***** 1260\t1088\twscntfy.exe\t0x81f96220\t1\t39\t0\tFalse\t2009-04-16 16:10:22.000000 \tN/A\n",
      "**** 872\t704\tvmacthlp.exe\t0x822cb458\t1\t25\t0\tFalse\t2009-04-16 16:10:07.000000 \tN/A\n",
      "**** 968\t704\tsvchost.exe\t0x81da4590\t10\t241\t0\tFalse\t2009-04-16 16:10:07.000000 \tN/A\n",
      "**** 1512\t704\tspoolsv.exe\t0x8219b630\t10\t129\t0\tFalse\t2009-04-16 16:10:10.000000 \tN/A\n",
      "**** 1032\t704\tVMwareService.e\t0x81dc2570\t3\t175\t0\tFalse\t2009-04-16 16:10:16.000000 \tN/A\n",
      "**** 464\t704\talg.exe\t0x81d33628\t6\t105\t0\tFalse\t2009-04-16 16:10:21.000000 \tN/A\n",
      "**** 1140\t704\tsvchost.exe\t0x8232c020\t5\t60\t0\tFalse\t2009-04-16 16:10:08.000000 \tN/A\n",
      "**** 884\t704\tsvchost.exe\t0x81e54da0\t17\t208\t0\tFalse\t2009-04-16 16:10:07.000000 \tN/A\n",
      "***** 796\t884\tiexplore.exe\t0x81dbdda0\t8\t152\t0\tFalse\t2009-05-05 19:28:28.000000 \tN/A\n",
      "**** 1464\t704\tmsiexec.exe\t0x8231eda0\t6\t294\t0\tFalse\t2009-04-16 16:11:02.000000 \tN/A\n",
      "**** 1212\t704\tsvchost.exe\t0x81e91da0\t14\t208\t0\tFalse\t2009-04-16 16:10:09.000000 \tN/A\n",
      "*** 716\t660\tlsass.exe\t0x82164da0\t21\t342\t0\tFalse\t2009-04-16 16:10:06.000000 \tN/A\n",
      "** 636\t564\tcsrss.exe\t0x822ca2c0\t10\t356\t0\tFalse\t2009-04-16 16:10:06.000000 \tN/A\n",
      "1672\t1624\texplorer.exe\t0x81da71a8\t15\t586\t0\tFalse\t2009-04-16 16:10:10.000000 \tN/A\n",
      "* 1984\t1672\tVMwareTray.exe\t0x81f1c7e8\t1\t37\t0\tFalse\t2009-04-16 16:10:11.000000 \tN/A\n",
      "* 840\t1672\tcmd.exe\t0x81e4d648\t1\t33\t0\tFalse\t2009-05-05 15:56:24.000000 \tN/A\n",
      "** 456\t840\tMIRAgent.exe\t0x82161558\t1\t77\t0\tFalse\t2009-05-05 19:28:40.000000 \tN/A\n",
      "* 2004\t1672\tVMwareUser.exe\t0x81dc1a78\t8\t228\t0\tFalse\t2009-04-16 16:10:11.000000 \tN/A\n",
      "* 2020\t1672\tctfmon.exe\t0x81f1a650\t1\t71\t0\tFalse\t2009-04-16 16:10:11.000000 \tN/A\n"
     ]
    }
   ],
   "source": [
    "python ../../volatility3/vol.py -q -f C:\\Users\\qrbbb\\Downloads\\APT.img windows.pstree.PsTree"
   ]
  },
  {
   "cell_type": "markdown",
   "metadata": {},
   "source": [
    "## PSSCAN"
   ]
  },
  {
   "cell_type": "code",
   "execution_count": 10,
   "metadata": {
    "dotnet_interactive": {
     "language": "powershell"
    },
    "polyglot_notebook": {
     "kernelName": "powershell"
    },
    "vscode": {
     "languageId": "polyglot-notebook"
    }
   },
   "outputs": [
    {
     "name": "stdout",
     "output_type": "stream",
     "text": [
      "Volatility 3 Framework 2.5.2\n",
      "\n",
      "PID\tPPID\tImageFileName\tOffset(V)\tThreads\tHandles\tSessionId\tWow64\tCreateTime\tExitTime\tFile output\n",
      "\n",
      "464\t704\talg.exe\t0x1f33628\t6\t105\t0\tFalse\t2009-04-16 16:10:21.000000 \tN/A\tDisabled\n",
      "968\t704\tsvchost.exe\t0x1fa4590\t10\t241\t0\tFalse\t2009-04-16 16:10:07.000000 \tN/A\tDisabled\n",
      "1672\t1624\texplorer.exe\t0x1fa71a8\t15\t586\t0\tFalse\t2009-04-16 16:10:10.000000 \tN/A\tDisabled\n",
      "796\t884\tiexplore.exe\t0x1fbdda0\t8\t152\t0\tFalse\t2009-05-05 19:28:28.000000 \tN/A\tDisabled\n",
      "2004\t1672\tVMwareUser.exe\t0x1fc1a78\t8\t228\t0\tFalse\t2009-04-16 16:10:11.000000 \tN/A\tDisabled\n",
      "1032\t704\tVMwareService.e\t0x1fc2570\t3\t175\t0\tFalse\t2009-04-16 16:10:16.000000 \tN/A\tDisabled\n",
      "840\t1672\tcmd.exe\t0x204d648\t1\t33\t0\tFalse\t2009-05-05 15:56:24.000000 \tN/A\tDisabled\n",
      "884\t704\tsvchost.exe\t0x2054da0\t17\t208\t0\tFalse\t2009-04-16 16:10:07.000000 \tN/A\tDisabled\n",
      "1212\t704\tsvchost.exe\t0x2091da0\t14\t208\t0\tFalse\t2009-04-16 16:10:09.000000 \tN/A\tDisabled\n",
      "2020\t1672\tctfmon.exe\t0x211a650\t1\t71\t0\tFalse\t2009-04-16 16:10:11.000000 \tN/A\tDisabled\n",
      "1984\t1672\tVMwareTray.exe\t0x211c7e8\t1\t37\t0\tFalse\t2009-04-16 16:10:11.000000 \tN/A\tDisabled\n",
      "704\t660\tservices.exe\t0x2122020\t15\t254\t0\tFalse\t2009-04-16 16:10:06.000000 \tN/A\tDisabled\n",
      "660\t564\twinlogon.exe\t0x2163020\t16\t502\t0\tFalse\t2009-04-16 16:10:06.000000 \tN/A\tDisabled\n",
      "1088\t704\tsvchost.exe\t0x21739b0\t70\t1445\t0\tFalse\t2009-04-16 16:10:07.000000 \tN/A\tDisabled\n",
      "1260\t1088\twscntfy.exe\t0x2196220\t1\t39\t0\tFalse\t2009-04-16 16:10:22.000000 \tN/A\tDisabled\n",
      "456\t840\tMIRAgent.exe\t0x2361558\t1\t77\t0\tFalse\t2009-05-05 19:28:40.000000 \tN/A\tDisabled\n",
      "716\t660\tlsass.exe\t0x2364da0\t21\t342\t0\tFalse\t2009-04-16 16:10:06.000000 \tN/A\tDisabled\n",
      "1512\t704\tspoolsv.exe\t0x239b630\t10\t129\t0\tFalse\t2009-04-16 16:10:10.000000 \tN/A\tDisabled\n",
      "636\t564\tcsrss.exe\t0x24ca2c0\t10\t356\t0\tFalse\t2009-04-16 16:10:06.000000 \tN/A\tDisabled\n",
      "872\t704\tvmacthlp.exe\t0x24cb458\t1\t25\t0\tFalse\t2009-04-16 16:10:07.000000 \tN/A\tDisabled\n",
      "564\t4\tsmss.exe\t0x250aad8\t3\t19\tN/A\tFalse\t2009-04-16 16:10:01.000000 \tN/A\tDisabled\n",
      "1464\t704\tmsiexec.exe\t0x251eda0\t6\t294\t0\tFalse\t2009-04-16 16:11:02.000000 \tN/A\tDisabled\n",
      "1140\t704\tsvchost.exe\t0x252c020\t5\t60\t0\tFalse\t2009-04-16 16:10:08.000000 \tN/A\tDisabled\n",
      "4\t0\tSystem\t0x25c8830\t55\t254\tN/A\tFalse\tN/A\tN/A\tDisabled\n",
      "1260\t1088\twscntfy.exe\t0x3178220\t1\t39\t0\tFalse\t2009-04-16 16:10:22.000000 \tN/A\tDisabled\n",
      "884\t704\tsvchost.exe\t0x32b3da0\t17\t208\t0\tFalse\t2009-04-16 16:10:07.000000 \tN/A\tDisabled\n",
      "968\t704\tsvchost.exe\t0x35c1590\t10\t241\t0\tFalse\t2009-04-16 16:10:07.000000 \tN/A\tDisabled\n",
      "1140\t704\tsvchost.exe\t0x4097020\t5\t60\t0\tFalse\t2009-04-16 16:10:08.000000 \tN/A\tDisabled\n",
      "796\t884\tiexplore.exe\t0x7b1ada0\t8\t152\t0\tFalse\t2009-05-05 19:28:28.000000 \tN/A\tDisabled\n",
      "796\t884\tiexplore.exe\t0xad69da0\t8\t152\t0\tFalse\t2009-05-05 19:28:28.000000 \tN/A\tDisabled\n",
      "1140\t704\tsvchost.exe\t0xc605020\t5\t60\t0\tFalse\t2009-04-16 16:10:08.000000 \tN/A\tDisabled\n",
      "464\t704\talg.exe\t0xedd0628\t6\t105\t0\tFalse\t2009-04-16 16:10:21.000000 \tN/A\tDisabled\n",
      "1088\t704\tsvchost.exe\t0xedd59b0\t70\t1445\t0\tFalse\t2009-04-16 16:10:07.000000 \tN/A\tDisabled\n",
      "464\t704\talg.exe\t0xeed3628\t6\t105\t0\tFalse\t2009-04-16 16:10:21.000000 \tN/A\tDisabled\n",
      "464\t704\talg.exe\t0x10b54628\t6\t105\t0\tFalse\t2009-04-16 16:10:21.000000 \tN/A\tDisabled\n",
      "884\t704\tsvchost.exe\t0x12f3dda0\t17\t208\t0\tFalse\t2009-04-16 16:10:07.000000 \tN/A\tDisabled\n",
      "4\t0\tSystem\t0x15934830\t55\t254\tN/A\tFalse\tN/A\tN/A\tDisabled\n",
      "796\t884\tiexplore.exe\t0x1b217da0\t8\t152\t0\tFalse\t2009-05-05 19:28:28.000000 \tN/A\tDisabled\n"
     ]
    }
   ],
   "source": [
    "python ../../volatility3/vol.py -q -f C:\\Users\\qrbbb\\Downloads\\APT.img windows.psscan.PsScan"
   ]
  },
  {
   "cell_type": "code",
   "execution_count": 11,
   "metadata": {
    "dotnet_interactive": {
     "language": "powershell"
    },
    "polyglot_notebook": {
     "kernelName": "powershell"
    },
    "vscode": {
     "languageId": "polyglot-notebook"
    }
   },
   "outputs": [
    {
     "name": "stdout",
     "output_type": "stream",
     "text": [
      "\u001b[31;1mVolatility 3 Framework 2.5.2\u001b[0m\n",
      "|   PID |  PPID | ImageFileName   | Threads | Handles |          CreateTime | ExitTime |\n",
      "| ----- | ----- | --------------- | ------- | ------- | ------------------- | -------- |\n",
      "|   464 |   704 | alg.exe         |       6 |     105 | 2009-04-16 16:10:21 |          |\n",
      "|   968 |   704 | svchost.exe     |      10 |     241 | 2009-04-16 16:10:07 |          |\n",
      "| 1,672 | 1,624 | explorer.exe    |      15 |     586 | 2009-04-16 16:10:10 |          |\n",
      "|   796 |   884 | iexplore.exe    |       8 |     152 | 2009-05-05 19:28:28 |          |\n",
      "| 2,004 | 1,672 | VMwareUser.exe  |       8 |     228 | 2009-04-16 16:10:11 |          |\n",
      "| 1,032 |   704 | VMwareService.e |       3 |     175 | 2009-04-16 16:10:16 |          |\n",
      "|   840 | 1,672 | cmd.exe         |       1 |      33 | 2009-05-05 15:56:24 |          |\n",
      "|   884 |   704 | svchost.exe     |      17 |     208 | 2009-04-16 16:10:07 |          |\n",
      "| 1,212 |   704 | svchost.exe     |      14 |     208 | 2009-04-16 16:10:09 |          |\n",
      "| 2,020 | 1,672 | ctfmon.exe      |       1 |      71 | 2009-04-16 16:10:11 |          |\n",
      "| 1,984 | 1,672 | VMwareTray.exe  |       1 |      37 | 2009-04-16 16:10:11 |          |\n",
      "|   704 |   660 | services.exe    |      15 |     254 | 2009-04-16 16:10:06 |          |\n",
      "|   660 |   564 | winlogon.exe    |      16 |     502 | 2009-04-16 16:10:06 |          |\n",
      "| 1,088 |   704 | svchost.exe     |      70 |   1,445 | 2009-04-16 16:10:07 |          |\n",
      "| 1,260 | 1,088 | wscntfy.exe     |       1 |      39 | 2009-04-16 16:10:22 |          |\n",
      "|   456 |   840 | MIRAgent.exe    |       1 |      77 | 2009-05-05 19:28:40 |          |\n",
      "|   716 |   660 | lsass.exe       |      21 |     342 | 2009-04-16 16:10:06 |          |\n",
      "| 1,512 |   704 | spoolsv.exe     |      10 |     129 | 2009-04-16 16:10:10 |          |\n",
      "|   636 |   564 | csrss.exe       |      10 |     356 | 2009-04-16 16:10:06 |          |\n",
      "|   872 |   704 | vmacthlp.exe    |       1 |      25 | 2009-04-16 16:10:07 |          |\n",
      "|   564 |     4 | smss.exe        |       3 |      19 | 2009-04-16 16:10:01 |          |\n",
      "| 1,464 |   704 | msiexec.exe     |       6 |     294 | 2009-04-16 16:11:02 |          |\n",
      "| 1,140 |   704 | svchost.exe     |       5 |      60 | 2009-04-16 16:10:08 |          |\n",
      "|     4 |     0 | System          |      55 |     254 |                     |          |\n",
      "| 1,260 | 1,088 | wscntfy.exe     |       1 |      39 | 2009-04-16 16:10:22 |          |\n",
      "|   884 |   704 | svchost.exe     |      17 |     208 | 2009-04-16 16:10:07 |          |\n",
      "|   968 |   704 | svchost.exe     |      10 |     241 | 2009-04-16 16:10:07 |          |\n",
      "| 1,140 |   704 | svchost.exe     |       5 |      60 | 2009-04-16 16:10:08 |          |\n",
      "|   796 |   884 | iexplore.exe    |       8 |     152 | 2009-05-05 19:28:28 |          |\n",
      "|   796 |   884 | iexplore.exe    |       8 |     152 | 2009-05-05 19:28:28 |          |\n",
      "| 1,140 |   704 | svchost.exe     |       5 |      60 | 2009-04-16 16:10:08 |          |\n",
      "|   464 |   704 | alg.exe         |       6 |     105 | 2009-04-16 16:10:21 |          |\n",
      "| 1,088 |   704 | svchost.exe     |      70 |   1,445 | 2009-04-16 16:10:07 |          |\n",
      "|   464 |   704 | alg.exe         |       6 |     105 | 2009-04-16 16:10:21 |          |\n",
      "|   464 |   704 | alg.exe         |       6 |     105 | 2009-04-16 16:10:21 |          |\n",
      "|   884 |   704 | svchost.exe     |      17 |     208 | 2009-04-16 16:10:07 |          |\n",
      "|     4 |     0 | System          |      55 |     254 |                     |          |\n",
      "|   796 |   884 | iexplore.exe    |       8 |     152 | 2009-05-05 19:28:28 |          |\n",
      "|       |       |                 |         |         |                     |          |\n"
     ]
    }
   ],
   "source": [
    "python ../../volatility3/vol.py -q -r csv -f C:\\Users\\qrbbb\\Downloads\\APT.img windows.psscan.PsScan | csvcut -c 2,3,4,6,7,10,11 | csvlook"
   ]
  },
  {
   "cell_type": "markdown",
   "metadata": {},
   "source": [
    "## Summary of Findings\n",
    "Please summarize all your findings here with cleaned up documented evidence"
   ]
  },
  {
   "cell_type": "markdown",
   "metadata": {},
   "source": [
    "***** 796\t884\tiexplore.exe\t0x81dbdda0\t8\t152\t0\tFalse\t2009-05-05 19:28:28.000000 \tN/A\n",
    "this process is supicious it start much later than its parent process"
   ]
  }
 ],
 "metadata": {
  "kernelspec": {
   "display_name": "Python 3",
   "language": "python",
   "name": "python3"
  },
  "language_info": {
   "file_extension": ".ps1",
   "mimetype": "text/x-powershell",
   "name": "python",
   "pygments_lexer": "powershell",
   "version": "3.9.13"
  },
  "polyglot_notebook": {
   "kernelInfo": {
    "defaultKernelName": "powershell",
    "items": [
     {
      "aliases": [],
      "name": "powershell"
     }
    ]
   }
  }
 },
 "nbformat": 4,
 "nbformat_minor": 2
}
