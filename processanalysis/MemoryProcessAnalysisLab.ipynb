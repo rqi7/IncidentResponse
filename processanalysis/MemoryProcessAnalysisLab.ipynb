{
 "cells": [
  {
   "cell_type": "markdown",
   "metadata": {},
   "source": [
    "# Process Analysis Homework\n",
    "For this assignment you will be reviewing a memory image infected with APT malware. The image has been provided for you to download and is named `APT.img` For this assignment we will just be focused on reviwing processes and determining if any of them need more detailed analysis. First you must identify what profile to use with your analysis with the `imageinfo` command\n",
    "\n",
    "## Profile Identification"
   ]
  },
  {
   "cell_type": "code",
   "execution_count": null,
   "metadata": {},
   "outputs": [],
   "source": []
  },
  {
   "cell_type": "markdown",
   "metadata": {},
   "source": [
    "Now that you know the profile use that to review the following process analysis with volatility:\n",
    " * `plist`\n",
    " * `pstree`\n",
    " * `psscan`\n",
    " \n",
    " Document any of your findings of supicious processes in line and make sure to document each analysis execution.\n",
    " \n",
    " ## PSLIST"
   ]
  },
  {
   "cell_type": "code",
   "execution_count": null,
   "metadata": {},
   "outputs": [],
   "source": []
  },
  {
   "cell_type": "markdown",
   "metadata": {},
   "source": [
    "## PSTREE"
   ]
  },
  {
   "cell_type": "code",
   "execution_count": null,
   "metadata": {},
   "outputs": [],
   "source": []
  },
  {
   "cell_type": "markdown",
   "metadata": {},
   "source": [
    "## PSSCAN"
   ]
  },
  {
   "cell_type": "code",
   "execution_count": null,
   "metadata": {},
   "outputs": [],
   "source": []
  },
  {
   "cell_type": "markdown",
   "metadata": {},
   "source": [
    "## Summary of Findings\n",
    "Please summarize all your findings here with cleaned up documented evidence"
   ]
  }
 ],
 "metadata": {
  "kernelspec": {
   "display_name": ".NET (PowerShell)",
   "language": "PowerShell",
   "name": ".net-powershell"
  },
  "language_info": {
   "file_extension": ".ps1",
   "mimetype": "text/x-powershell",
   "name": "PowerShell",
   "pygments_lexer": "powershell",
   "version": "7.0"
  }
 },
 "nbformat": 4,
 "nbformat_minor": 2
}
