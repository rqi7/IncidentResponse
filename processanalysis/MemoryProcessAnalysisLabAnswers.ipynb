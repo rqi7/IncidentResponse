{
 "cells": [
  {
   "cell_type": "markdown",
   "metadata": {},
   "source": [
    "# Process Analysis Homework Answers\n",
    "For this assignment you will be reviewing a memory image infected with APT malware. The image has been provided for you to download and is named `APT.img` For this assignment we will just be focused on reviwing processes and determining if any of them need more detailed analysis. First you must identify basic information about the memory image  with the `imageinfo` command\n",
    "\n",
    "## Profile Identification"
   ]
  },
  {
   "cell_type": "code",
   "execution_count": 3,
   "metadata": {},
   "outputs": [
    {
     "name": "stdout",
     "output_type": "stream",
     "text": [
      "Volatility 3 Framework 1.2.1\n",
      "\n",
      "Variable\tValue\n",
      "\n",
      "Kernel Base\t0x804d7000\n",
      "DTB\t0x319000\n",
      "Symbols\tfile:///C:/Users/analyst/Desktop/IncidentResponse/volatility3/volatility3/symbols/windows/ntkrnlpa.pdb/FD7B256CD2D14BC0B35BA9B89F691346-1.json.xz\n",
      "Is64Bit\tFalse\n",
      "IsPAE\tTrue\n",
      "layer_name\t0 WindowsIntelPAE\n",
      "memory_layer\t1 FileLayer\n",
      "KdDebuggerDataBlock\t0x80545b60\n",
      "NTBuildLab\t2600.xpsp_sp3_gdr.080814-1236\n",
      "CSDVersion\t3\n",
      "KdVersionBlock\t0x80545b38\n",
      "Major/Minor\t15.2600\n",
      "MachineType\t332\n",
      "KeNumberProcessors\t1\n",
      "SystemTime\t2009-05-05 19:28:57\n",
      "NtSystemRoot\tC:\\WINDOWS\n",
      "NtProductType\tNtProductWinNt\n",
      "NtMajorVersion\t5\n",
      "NtMinorVersion\t1\n",
      "PE MajorOperatingSystemVersion\t5\n",
      "PE MinorOperatingSystemVersion\t1\n",
      "PE Machine\t332\n",
      "PE TimeDateStamp\tThu Aug 14 09:33:12 2008\n"
     ]
    }
   ],
   "source": [
    "python ../volatility3/vol.py -q -f E:\\APT.img windows.info.Info"
   ]
  },
  {
   "cell_type": "markdown",
   "metadata": {},
   "source": [
    "Now that you know the profile use that to review the following process analysis with volatility:\n",
    " * `plist`\n",
    " * `pstree`\n",
    " * `psscan`\n",
    " * `psxview`\n",
    " \n",
    " Document any of your findings of supicious processes in line and make sure to document each analysis execution.\n",
    " \n",
    " ## PSLIST"
   ]
  },
  {
   "cell_type": "code",
   "execution_count": 4,
   "metadata": {},
   "outputs": [
    {
     "name": "stdout",
     "output_type": "stream",
     "text": [
      "Volatility 3 Framework 1.2.1\n",
      "\n",
      "PID\tPPID\tImageFileName\tOffset(V)\tThreads\tHandles\tSessionId\tWow64\tCreateTime\tExitTime\tFile output\n",
      "\n",
      "4\t0\tSystem\t0x823c8830\t55\t254\tN/A\tFalse\tN/A\tN/A\tDisabled\n",
      "564\t4\tsmss.exe\t0x8230aad8\t3\t19\tN/A\tFalse\t2009-04-16 16:10:01.000000 \tN/A\tDisabled\n",
      "636\t564\tcsrss.exe\t0x822ca2c0\t10\t356\t0\tFalse\t2009-04-16 16:10:06.000000 \tN/A\tDisabled\n",
      "660\t564\twinlogon.exe\t0x81f63020\t16\t502\t0\tFalse\t2009-04-16 16:10:06.000000 \tN/A\tDisabled\n",
      "704\t660\tservices.exe\t0x81f22020\t15\t254\t0\tFalse\t2009-04-16 16:10:06.000000 \tN/A\tDisabled\n",
      "716\t660\tlsass.exe\t0x82164da0\t21\t342\t0\tFalse\t2009-04-16 16:10:06.000000 \tN/A\tDisabled\n",
      "872\t704\tvmacthlp.exe\t0x822cb458\t1\t25\t0\tFalse\t2009-04-16 16:10:07.000000 \tN/A\tDisabled\n",
      "884\t704\tsvchost.exe\t0x81e54da0\t17\t208\t0\tFalse\t2009-04-16 16:10:07.000000 \tN/A\tDisabled\n",
      "968\t704\tsvchost.exe\t0x81da4590\t10\t241\t0\tFalse\t2009-04-16 16:10:07.000000 \tN/A\tDisabled\n",
      "1088\t704\tsvchost.exe\t0x81f739b0\t70\t1445\t0\tFalse\t2009-04-16 16:10:07.000000 \tN/A\tDisabled\n",
      "1140\t704\tsvchost.exe\t0x8232c020\t5\t60\t0\tFalse\t2009-04-16 16:10:08.000000 \tN/A\tDisabled\n",
      "1212\t704\tsvchost.exe\t0x81e91da0\t14\t208\t0\tFalse\t2009-04-16 16:10:09.000000 \tN/A\tDisabled\n",
      "1512\t704\tspoolsv.exe\t0x8219b630\t10\t129\t0\tFalse\t2009-04-16 16:10:10.000000 \tN/A\tDisabled\n",
      "1672\t1624\texplorer.exe\t0x81da71a8\t15\t586\t0\tFalse\t2009-04-16 16:10:10.000000 \tN/A\tDisabled\n",
      "1984\t1672\tVMwareTray.exe\t0x81f1c7e8\t1\t37\t0\tFalse\t2009-04-16 16:10:11.000000 \tN/A\tDisabled\n",
      "2004\t1672\tVMwareUser.exe\t0x81dc1a78\t8\t228\t0\tFalse\t2009-04-16 16:10:11.000000 \tN/A\tDisabled\n",
      "2020\t1672\tctfmon.exe\t0x81f1a650\t1\t71\t0\tFalse\t2009-04-16 16:10:11.000000 \tN/A\tDisabled\n",
      "1032\t704\tVMwareService.e\t0x81dc2570\t3\t175\t0\tFalse\t2009-04-16 16:10:16.000000 \tN/A\tDisabled\n",
      "464\t704\talg.exe\t0x81d33628\t6\t105\t0\tFalse\t2009-04-16 16:10:21.000000 \tN/A\tDisabled\n",
      "1260\t1088\twscntfy.exe\t0x81f96220\t1\t39\t0\tFalse\t2009-04-16 16:10:22.000000 \tN/A\tDisabled\n",
      "1464\t704\tmsiexec.exe\t0x8231eda0\t6\t294\t0\tFalse\t2009-04-16 16:11:02.000000 \tN/A\tDisabled\n",
      "840\t1672\tcmd.exe\t0x81e4d648\t1\t33\t0\tFalse\t2009-05-05 15:56:24.000000 \tN/A\tDisabled\n",
      "796\t884\tiexplore.exe\t0x81dbdda0\t8\t152\t0\tFalse\t2009-05-05 19:28:28.000000 \tN/A\tDisabled\n",
      "456\t840\tMIRAgent.exe\t0x82161558\t1\t77\t0\tFalse\t2009-05-05 19:28:40.000000 \tN/A\tDisabled\n"
     ]
    }
   ],
   "source": [
    "python ../volatility3/vol.py -q -f E:\\APT.img windows.pslist.PsList"
   ]
  },
  {
   "cell_type": "code",
   "execution_count": 7,
   "metadata": {},
   "outputs": [
    {
     "name": "stdout",
     "output_type": "stream",
     "text": [
      "Volatility 3 Framework 1.2.1\n",
      "|   PID |  PPID | ImageFileName   | Threads | Handles |          CreateTime | ExitTime |\n",
      "| ----- | ----- | --------------- | ------- | ------- | ------------------- | -------- |\n",
      "|     4 |     0 | System          |      55 |     254 |                     |          |\n",
      "|   564 |     4 | smss.exe        |       3 |      19 | 2009-04-16 16:10:01 |          |\n",
      "|   636 |   564 | csrss.exe       |      10 |     356 | 2009-04-16 16:10:06 |          |\n",
      "|   660 |   564 | winlogon.exe    |      16 |     502 | 2009-04-16 16:10:06 |          |\n",
      "|   704 |   660 | services.exe    |      15 |     254 | 2009-04-16 16:10:06 |          |\n",
      "|   716 |   660 | lsass.exe       |      21 |     342 | 2009-04-16 16:10:06 |          |\n",
      "|   872 |   704 | vmacthlp.exe    |       1 |      25 | 2009-04-16 16:10:07 |          |\n",
      "|   884 |   704 | svchost.exe     |      17 |     208 | 2009-04-16 16:10:07 |          |\n",
      "|   968 |   704 | svchost.exe     |      10 |     241 | 2009-04-16 16:10:07 |          |\n",
      "| 1,088 |   704 | svchost.exe     |      70 |   1,445 | 2009-04-16 16:10:07 |          |\n",
      "| 1,140 |   704 | svchost.exe     |       5 |      60 | 2009-04-16 16:10:08 |          |\n",
      "| 1,212 |   704 | svchost.exe     |      14 |     208 | 2009-04-16 16:10:09 |          |\n",
      "| 1,512 |   704 | spoolsv.exe     |      10 |     129 | 2009-04-16 16:10:10 |          |\n",
      "| 1,672 | 1,624 | explorer.exe    |      15 |     586 | 2009-04-16 16:10:10 |          |\n",
      "| 1,984 | 1,672 | VMwareTray.exe  |       1 |      37 | 2009-04-16 16:10:11 |          |\n",
      "| 2,004 | 1,672 | VMwareUser.exe  |       8 |     228 | 2009-04-16 16:10:11 |          |\n",
      "| 2,020 | 1,672 | ctfmon.exe      |       1 |      71 | 2009-04-16 16:10:11 |          |\n",
      "| 1,032 |   704 | VMwareService.e |       3 |     175 | 2009-04-16 16:10:16 |          |\n",
      "|   464 |   704 | alg.exe         |       6 |     105 | 2009-04-16 16:10:21 |          |\n",
      "| 1,260 | 1,088 | wscntfy.exe     |       1 |      39 | 2009-04-16 16:10:22 |          |\n",
      "| 1,464 |   704 | msiexec.exe     |       6 |     294 | 2009-04-16 16:11:02 |          |\n",
      "|   840 | 1,672 | cmd.exe         |       1 |      33 | 2009-05-05 15:56:24 |          |\n",
      "|   796 |   884 | iexplore.exe    |       8 |     152 | 2009-05-05 19:28:28 |          |\n",
      "|   456 |   840 | MIRAgent.exe    |       1 |      77 | 2009-05-05 19:28:40 |          |\n"
     ]
    }
   ],
   "source": [
    "python ../volatility3/vol.py -q -r csv -f E:\\APT.img windows.pslist.PsList | csvcut -c 2,3,4,6,7,10,11 | csvlook"
   ]
  },
  {
   "cell_type": "markdown",
   "metadata": {},
   "source": [
    "## PSTREE"
   ]
  },
  {
   "cell_type": "code",
   "execution_count": 8,
   "metadata": {},
   "outputs": [
    {
     "name": "stdout",
     "output_type": "stream",
     "text": [
      "Volatility 3 Framework 1.2.1\n",
      "\n",
      "PID\tPPID\tImageFileName\tOffset(V)\tThreads\tHandles\tSessionId\tWow64\tCreateTime\tExitTime\n",
      "\n",
      "4\t0\tSystem\t0x823c8830\t55\t254\tN/A\tFalse\tN/A\tN/A\n",
      "* 564\t4\tsmss.exe\t0x8230aad8\t3\t19\tN/A\tFalse\t2009-04-16 16:10:01.000000 \tN/A\n",
      "** 660\t564\twinlogon.exe\t0x81f63020\t16\t502\t0\tFalse\t2009-04-16 16:10:06.000000 \tN/A\n",
      "*** 704\t660\tservices.exe\t0x81f22020\t15\t254\t0\tFalse\t2009-04-16 16:10:06.000000 \tN/A\n",
      "**** 1088\t704\tsvchost.exe\t0x81f739b0\t70\t1445\t0\tFalse\t2009-04-16 16:10:07.000000 \tN/A\n",
      "***** 1260\t1088\twscntfy.exe\t0x81f96220\t1\t39\t0\tFalse\t2009-04-16 16:10:22.000000 \tN/A\n",
      "**** 872\t704\tvmacthlp.exe\t0x822cb458\t1\t25\t0\tFalse\t2009-04-16 16:10:07.000000 \tN/A\n",
      "**** 968\t704\tsvchost.exe\t0x81da4590\t10\t241\t0\tFalse\t2009-04-16 16:10:07.000000 \tN/A\n",
      "**** 1512\t704\tspoolsv.exe\t0x8219b630\t10\t129\t0\tFalse\t2009-04-16 16:10:10.000000 \tN/A\n",
      "**** 1032\t704\tVMwareService.e\t0x81dc2570\t3\t175\t0\tFalse\t2009-04-16 16:10:16.000000 \tN/A\n",
      "**** 464\t704\talg.exe\t0x81d33628\t6\t105\t0\tFalse\t2009-04-16 16:10:21.000000 \tN/A\n",
      "**** 1140\t704\tsvchost.exe\t0x8232c020\t5\t60\t0\tFalse\t2009-04-16 16:10:08.000000 \tN/A\n",
      "**** 884\t704\tsvchost.exe\t0x81e54da0\t17\t208\t0\tFalse\t2009-04-16 16:10:07.000000 \tN/A\n",
      "***** 796\t884\tiexplore.exe\t0x81dbdda0\t8\t152\t0\tFalse\t2009-05-05 19:28:28.000000 \tN/A\n",
      "**** 1464\t704\tmsiexec.exe\t0x8231eda0\t6\t294\t0\tFalse\t2009-04-16 16:11:02.000000 \tN/A\n",
      "**** 1212\t704\tsvchost.exe\t0x81e91da0\t14\t208\t0\tFalse\t2009-04-16 16:10:09.000000 \tN/A\n",
      "*** 716\t660\tlsass.exe\t0x82164da0\t21\t342\t0\tFalse\t2009-04-16 16:10:06.000000 \tN/A\n",
      "** 636\t564\tcsrss.exe\t0x822ca2c0\t10\t356\t0\tFalse\t2009-04-16 16:10:06.000000 \tN/A\n",
      "1672\t1624\texplorer.exe\t0x81da71a8\t15\t586\t0\tFalse\t2009-04-16 16:10:10.000000 \tN/A\n",
      "* 1984\t1672\tVMwareTray.exe\t0x81f1c7e8\t1\t37\t0\tFalse\t2009-04-16 16:10:11.000000 \tN/A\n",
      "* 840\t1672\tcmd.exe\t0x81e4d648\t1\t33\t0\tFalse\t2009-05-05 15:56:24.000000 \tN/A\n",
      "** 456\t840\tMIRAgent.exe\t0x82161558\t1\t77\t0\tFalse\t2009-05-05 19:28:40.000000 \tN/A\n",
      "* 2004\t1672\tVMwareUser.exe\t0x81dc1a78\t8\t228\t0\tFalse\t2009-04-16 16:10:11.000000 \tN/A\n",
      "* 2020\t1672\tctfmon.exe\t0x81f1a650\t1\t71\t0\tFalse\t2009-04-16 16:10:11.000000 \tN/A\n"
     ]
    }
   ],
   "source": [
    "python ../volatility3/vol.py -q -f E:\\APT.img windows.pstree.PsTree "
   ]
  },
  {
   "cell_type": "markdown",
   "metadata": {},
   "source": [
    "The process below seems be supicious because svchost.exe is the parent process and the time starting on `iexplore.exe` is much later than the orginal service start:\n",
    "```\n",
    "**** 884\t704\tsvchost.exe\t0x81e54da0\t17\t208\t0\tFalse\t2009-04-16 16:10:07.000000 \tN/A\n",
    "***** 796\t884\tiexplore.exe\t0x81dbdda0\t8\t152\t0\tFalse\t2009-05-05 19:28:28.000000 \tN/A\n",
    "```"
   ]
  },
  {
   "cell_type": "markdown",
   "metadata": {},
   "source": [
    "## PSSCAN"
   ]
  },
  {
   "cell_type": "code",
   "execution_count": 9,
   "metadata": {},
   "outputs": [
    {
     "name": "stdout",
     "output_type": "stream",
     "text": [
      "Volatility 3 Framework 1.2.1\n",
      "\n",
      "PID\tPPID\tImageFileName\tOffset\tThreads\tHandles\tSessionId\tWow64\tCreateTime\tExitTime\tFile output\n",
      "\n",
      "464\t704\talg.exe\t0x1f33628\t6\t105\t0\tFalse\t2009-04-16 16:10:21.000000 \tN/A\tDisabled\n",
      "968\t704\tsvchost.exe\t0x1fa4590\t10\t241\t0\tFalse\t2009-04-16 16:10:07.000000 \tN/A\tDisabled\n",
      "1672\t1624\texplorer.exe\t0x1fa71a8\t15\t586\t0\tFalse\t2009-04-16 16:10:10.000000 \tN/A\tDisabled\n",
      "796\t884\tiexplore.exe\t0x1fbdda0\t8\t152\t0\tFalse\t2009-05-05 19:28:28.000000 \tN/A\tDisabled\n",
      "2004\t1672\tVMwareUser.exe\t0x1fc1a78\t8\t228\t0\tFalse\t2009-04-16 16:10:11.000000 \tN/A\tDisabled\n",
      "1032\t704\tVMwareService.e\t0x1fc2570\t3\t175\t0\tFalse\t2009-04-16 16:10:16.000000 \tN/A\tDisabled\n",
      "840\t1672\tcmd.exe\t0x204d648\t1\t33\t0\tFalse\t2009-05-05 15:56:24.000000 \tN/A\tDisabled\n",
      "884\t704\tsvchost.exe\t0x2054da0\t17\t208\t0\tFalse\t2009-04-16 16:10:07.000000 \tN/A\tDisabled\n",
      "1212\t704\tsvchost.exe\t0x2091da0\t14\t208\t0\tFalse\t2009-04-16 16:10:09.000000 \tN/A\tDisabled\n",
      "2020\t1672\tctfmon.exe\t0x211a650\t1\t71\t0\tFalse\t2009-04-16 16:10:11.000000 \tN/A\tDisabled\n",
      "1984\t1672\tVMwareTray.exe\t0x211c7e8\t1\t37\t0\tFalse\t2009-04-16 16:10:11.000000 \tN/A\tDisabled\n",
      "704\t660\tservices.exe\t0x2122020\t15\t254\t0\tFalse\t2009-04-16 16:10:06.000000 \tN/A\tDisabled\n",
      "660\t564\twinlogon.exe\t0x2163020\t16\t502\t0\tFalse\t2009-04-16 16:10:06.000000 \tN/A\tDisabled\n",
      "1088\t704\tsvchost.exe\t0x21739b0\t70\t1445\t0\tFalse\t2009-04-16 16:10:07.000000 \tN/A\tDisabled\n",
      "1260\t1088\twscntfy.exe\t0x2196220\t1\t39\t0\tFalse\t2009-04-16 16:10:22.000000 \tN/A\tDisabled\n",
      "456\t840\tMIRAgent.exe\t0x2361558\t1\t77\t0\tFalse\t2009-05-05 19:28:40.000000 \tN/A\tDisabled\n",
      "716\t660\tlsass.exe\t0x2364da0\t21\t342\t0\tFalse\t2009-04-16 16:10:06.000000 \tN/A\tDisabled\n",
      "1512\t704\tspoolsv.exe\t0x239b630\t10\t129\t0\tFalse\t2009-04-16 16:10:10.000000 \tN/A\tDisabled\n",
      "636\t564\tcsrss.exe\t0x24ca2c0\t10\t356\t0\tFalse\t2009-04-16 16:10:06.000000 \tN/A\tDisabled\n",
      "872\t704\tvmacthlp.exe\t0x24cb458\t1\t25\t0\tFalse\t2009-04-16 16:10:07.000000 \tN/A\tDisabled\n",
      "564\t4\tsmss.exe\t0x250aad8\t3\t19\tN/A\tFalse\t2009-04-16 16:10:01.000000 \tN/A\tDisabled\n",
      "1464\t704\tmsiexec.exe\t0x251eda0\t6\t294\t0\tFalse\t2009-04-16 16:11:02.000000 \tN/A\tDisabled\n",
      "1140\t704\tsvchost.exe\t0x252c020\t5\t60\t0\tFalse\t2009-04-16 16:10:08.000000 \tN/A\tDisabled\n",
      "4\t0\tSystem\t0x25c8830\t55\t254\tN/A\tFalse\tN/A\tN/A\tDisabled\n",
      "1260\t1088\twscntfy.exe\t0x3178220\t1\t39\t0\tFalse\t2009-04-16 16:10:22.000000 \tN/A\tDisabled\n",
      "884\t704\tsvchost.exe\t0x32b3da0\t17\t208\t0\tFalse\t2009-04-16 16:10:07.000000 \tN/A\tDisabled\n",
      "968\t704\tsvchost.exe\t0x35c1590\t10\t241\t0\tFalse\t2009-04-16 16:10:07.000000 \tN/A\tDisabled\n",
      "1140\t704\tsvchost.exe\t0x4097020\t5\t60\t0\tFalse\t2009-04-16 16:10:08.000000 \tN/A\tDisabled\n",
      "796\t884\tiexplore.exe\t0x7b1ada0\t8\t152\t0\tFalse\t2009-05-05 19:28:28.000000 \tN/A\tDisabled\n",
      "796\t884\tiexplore.exe\t0xad69da0\t8\t152\t0\tFalse\t2009-05-05 19:28:28.000000 \tN/A\tDisabled\n",
      "1140\t704\tsvchost.exe\t0xc605020\t5\t60\t0\tFalse\t2009-04-16 16:10:08.000000 \tN/A\tDisabled\n",
      "464\t704\talg.exe\t0xedd0628\t6\t105\t0\tFalse\t2009-04-16 16:10:21.000000 \tN/A\tDisabled\n",
      "1088\t704\tsvchost.exe\t0xedd59b0\t70\t1445\t0\tFalse\t2009-04-16 16:10:07.000000 \tN/A\tDisabled\n",
      "464\t704\talg.exe\t0xeed3628\t6\t105\t0\tFalse\t2009-04-16 16:10:21.000000 \tN/A\tDisabled\n",
      "464\t704\talg.exe\t0x10b54628\t6\t105\t0\tFalse\t2009-04-16 16:10:21.000000 \tN/A\tDisabled\n",
      "884\t704\tsvchost.exe\t0x12f3dda0\t17\t208\t0\tFalse\t2009-04-16 16:10:07.000000 \tN/A\tDisabled\n",
      "4\t0\tSystem\t0x15934830\t55\t254\tN/A\tFalse\tN/A\tN/A\tDisabled\n",
      "796\t884\tiexplore.exe\t0x1b217da0\t8\t152\t0\tFalse\t2009-05-05 19:28:28.000000 \tN/A\tDisabled\n"
     ]
    }
   ],
   "source": [
    "python ../volatility3/vol.py -q -f E:\\APT.img windows.psscan.PsScan"
   ]
  },
  {
   "cell_type": "code",
   "execution_count": 10,
   "metadata": {},
   "outputs": [
    {
     "name": "stdout",
     "output_type": "stream",
     "text": [
      "Volatility 3 Framework 1.2.1\n",
      "|   PID |  PPID | ImageFileName   | Threads | Handles |          CreateTime | ExitTime |\n",
      "| ----- | ----- | --------------- | ------- | ------- | ------------------- | -------- |\n",
      "|   464 |   704 | alg.exe         |       6 |     105 | 2009-04-16 16:10:21 |          |\n",
      "|   968 |   704 | svchost.exe     |      10 |     241 | 2009-04-16 16:10:07 |          |\n",
      "| 1,672 | 1,624 | explorer.exe    |      15 |     586 | 2009-04-16 16:10:10 |          |\n",
      "|   796 |   884 | iexplore.exe    |       8 |     152 | 2009-05-05 19:28:28 |          |\n",
      "| 2,004 | 1,672 | VMwareUser.exe  |       8 |     228 | 2009-04-16 16:10:11 |          |\n",
      "| 1,032 |   704 | VMwareService.e |       3 |     175 | 2009-04-16 16:10:16 |          |\n",
      "|   840 | 1,672 | cmd.exe         |       1 |      33 | 2009-05-05 15:56:24 |          |\n",
      "|   884 |   704 | svchost.exe     |      17 |     208 | 2009-04-16 16:10:07 |          |\n",
      "| 1,212 |   704 | svchost.exe     |      14 |     208 | 2009-04-16 16:10:09 |          |\n",
      "| 2,020 | 1,672 | ctfmon.exe      |       1 |      71 | 2009-04-16 16:10:11 |          |\n",
      "| 1,984 | 1,672 | VMwareTray.exe  |       1 |      37 | 2009-04-16 16:10:11 |          |\n",
      "|   704 |   660 | services.exe    |      15 |     254 | 2009-04-16 16:10:06 |          |\n",
      "|   660 |   564 | winlogon.exe    |      16 |     502 | 2009-04-16 16:10:06 |          |\n",
      "| 1,088 |   704 | svchost.exe     |      70 |   1,445 | 2009-04-16 16:10:07 |          |\n",
      "| 1,260 | 1,088 | wscntfy.exe     |       1 |      39 | 2009-04-16 16:10:22 |          |\n",
      "|   456 |   840 | MIRAgent.exe    |       1 |      77 | 2009-05-05 19:28:40 |          |\n",
      "|   716 |   660 | lsass.exe       |      21 |     342 | 2009-04-16 16:10:06 |          |\n",
      "| 1,512 |   704 | spoolsv.exe     |      10 |     129 | 2009-04-16 16:10:10 |          |\n",
      "|   636 |   564 | csrss.exe       |      10 |     356 | 2009-04-16 16:10:06 |          |\n",
      "|   872 |   704 | vmacthlp.exe    |       1 |      25 | 2009-04-16 16:10:07 |          |\n",
      "|   564 |     4 | smss.exe        |       3 |      19 | 2009-04-16 16:10:01 |          |\n",
      "| 1,464 |   704 | msiexec.exe     |       6 |     294 | 2009-04-16 16:11:02 |          |\n",
      "| 1,140 |   704 | svchost.exe     |       5 |      60 | 2009-04-16 16:10:08 |          |\n",
      "|     4 |     0 | System          |      55 |     254 |                     |          |\n",
      "| 1,260 | 1,088 | wscntfy.exe     |       1 |      39 | 2009-04-16 16:10:22 |          |\n",
      "|   884 |   704 | svchost.exe     |      17 |     208 | 2009-04-16 16:10:07 |          |\n",
      "|   968 |   704 | svchost.exe     |      10 |     241 | 2009-04-16 16:10:07 |          |\n",
      "| 1,140 |   704 | svchost.exe     |       5 |      60 | 2009-04-16 16:10:08 |          |\n",
      "|   796 |   884 | iexplore.exe    |       8 |     152 | 2009-05-05 19:28:28 |          |\n",
      "|   796 |   884 | iexplore.exe    |       8 |     152 | 2009-05-05 19:28:28 |          |\n",
      "| 1,140 |   704 | svchost.exe     |       5 |      60 | 2009-04-16 16:10:08 |          |\n",
      "|   464 |   704 | alg.exe         |       6 |     105 | 2009-04-16 16:10:21 |          |\n",
      "| 1,088 |   704 | svchost.exe     |      70 |   1,445 | 2009-04-16 16:10:07 |          |\n",
      "|   464 |   704 | alg.exe         |       6 |     105 | 2009-04-16 16:10:21 |          |\n",
      "|   464 |   704 | alg.exe         |       6 |     105 | 2009-04-16 16:10:21 |          |\n",
      "|   884 |   704 | svchost.exe     |      17 |     208 | 2009-04-16 16:10:07 |          |\n",
      "|     4 |     0 | System          |      55 |     254 |                     |          |\n",
      "|   796 |   884 | iexplore.exe    |       8 |     152 | 2009-05-05 19:28:28 |          |\n"
     ]
    }
   ],
   "source": [
    "python ../volatility3/vol.py -q -r csv -f E:\\APT.img windows.psscan.PsScan | csvcut -c 2,3,4,6,7,10,11 | csvlook"
   ]
  }
 ],
 "metadata": {
  "kernelspec": {
   "display_name": ".NET (PowerShell)",
   "language": "PowerShell",
   "name": ".net-powershell"
  },
  "language_info": {
   "file_extension": ".ps1",
   "mimetype": "text/x-powershell",
   "name": "PowerShell",
   "pygments_lexer": "powershell",
   "version": "7.0"
  }
 },
 "nbformat": 4,
 "nbformat_minor": 2
}
