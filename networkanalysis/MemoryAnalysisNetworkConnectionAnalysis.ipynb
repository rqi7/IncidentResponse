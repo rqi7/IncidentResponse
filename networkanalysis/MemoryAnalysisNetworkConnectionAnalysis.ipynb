{
 "cells": [
  {
   "cell_type": "markdown",
   "metadata": {},
   "source": [
    "### Network Connections\n",
    "Another starting point and deeper dive for associated processes are the systems network connections the following commands will cover how to enumerate connection data structures in memory\n",
    "#### connections"
   ]
  },
  {
   "cell_type": "code",
   "execution_count": 10,
   "metadata": {},
   "outputs": [
    {
     "name": "stdout",
     "output_type": "stream",
     "text": [
      "Volatility Foundation Volatility Framework 2.6\n",
      "Offset(V)  Local Address             Remote Address            Pid\n",
      "---------- ------------------------- ------------------------- ---\n",
      "0x81e611f8 192.168.157.10:1053       218.85.133.23:89          796\n",
      "python ../volatility/vol.py -f ../APT.img --profile=WinXPSP2x86 connectio"
     ]
    }
   ],
   "source": [
    "python ../volatility/vol.py -f ../APT.img --profile=WinXPSP2x86 connections"
   ]
  },
  {
   "cell_type": "markdown",
   "metadata": {},
   "source": [
    "Performaing a whois lookup on the IP `218.85.133.23`, from domain tools located here: http://whois.domaintools.com/218.85.133.23\n",
    "\n",
    "```\n",
    "IP Information for 218.85.133.23\n",
    " Quick Stats\n",
    "IP Location\tChina China Fuzhou Chinanet Fujian Province Network\n",
    "ASN\tChina AS133775 CHINATELECOM-FUJIAN-XIAMEN-IDC1 Xiamen, CN (registered Oct 28, 2014)\n",
    "Whois Server\twhois.apnic.net\n",
    "IP Address\t218.85.133.23\n",
    "inetnum:        218.85.0.0 - 218.86.127.255\n",
    "netname:        CHINANET-FJ\n",
    "descr:          CHINANET Fujian province network\n",
    "descr:          Data Communication Division\n",
    "descr:          China Telecom\n",
    "country:        CN\n",
    "admin-c:        CH93-AP\n",
    "tech-c:         CA67-AP\n",
    "mnt-by:         MAINT-CHINANET\n",
    "mnt-lower:      MAINT-CHINANET-FJ\n",
    "status:         ALLOCATED NON-PORTABLE\n",
    "last-modified:  2008-09-04T06:51:23Z\n",
    "source:         APNIC\n",
    "\n",
    "role:           CHINANETFJ IP ADMIN\n",
    "address:        7,East Street,Fuzhou,Fujian,PRC\n",
    "country:        CN\n",
    "phone:          +86-591-83309761\n",
    "fax-no:         +86-591-83371954\n",
    "e-mail:         \n",
    "remarks:        send spam reports  and abuse reports\n",
    "remarks:        to \n",
    "remarks:        Please include detailed information and\n",
    "remarks:        times in UTC\n",
    "admin-c:        FH71-AP\n",
    "tech-c:         FH71-AP\n",
    "nic-hdl:        CA67-AP\n",
    "remarks:        www.fjtelecom.com\n",
    "notify:         \n",
    "mnt-by:         MAINT-CHINANET-FJ\n",
    "last-modified:  2011-12-06T00:10:50Z\n",
    "source:         APNIC\n",
    "\n",
    "person:         Chinanet Hostmaster\n",
    "nic-hdl:        CH93-AP\n",
    "e-mail:         \n",
    "address:        No.31 ,jingrong street,beijing\n",
    "address:        100032\n",
    "phone:          +86-10-58501724\n",
    "fax-no:         +86-10-58501724\n",
    "country:        CN\n",
    "mnt-by:         MAINT-CHINANET\n",
    "last-modified:  2014-02-27T03:37:38Z\n",
    "source:         APNIC\n",
    "```\n",
    "\n",
    "The connection was open to port 89 which is listed as SU MIT Telnet Gateway as the default service and because IE should be using 80 or 443 for HTTP and HTTPS connections. \n",
    "\n",
    "#### connscan\n",
    "As with `pslist` and `psscan` volatility uses the `scan` naming convention to signify the plugin is performing a forensic search of the memory structure not just enumerating what the operating system would see. In this plugin the analysis is enumerating connection data structures from memory forensicly. "
   ]
  },
  {
   "cell_type": "code",
   "execution_count": 17,
   "metadata": {},
   "outputs": [
    {
     "name": "stdout",
     "output_type": "stream",
     "text": [
      "Offset(P)  Local Address             Remote Address            Pid\n",
      "---------- ------------------------- ------------------------- ---\n",
      "0x0205ece0 192.168.157.10:1050       222.128.1.2:443           1672\n",
      "0x020611f8 192.168.157.10:1053       218.85.133.23:89          796\n",
      "0x032c01f8 192.168.157.10:1053       218.85.133.23:89          796\n",
      "0x0337dce0 192.168.157.10:1050       222.128.1.2:443           1672\n",
      "0x08a4ace0 192.168.157.10:1050       222.128.1.2:443           1672\n",
      "0x18200ce0 192.168.157.10:1050       222.128.1.2:443           1672\n",
      "python ../volatility/vol.py -f ../APT.img --profile=WinXPSP2x86 connscan\n",
      "Volatility Foundation Volatility Framework 2.6\n"
     ]
    }
   ],
   "source": [
    "python ../volatility/vol.py -f ../APT.img --profile=WinXPSP2x86 connscan"
   ]
  },
  {
   "cell_type": "markdown",
   "metadata": {},
   "source": [
    "This plugin exectuion finds another proess with an remote connection which was not previously found with the `connections` command. PID 1672 is explorer.exe which should not have any open connections to the Internet normally. Here is whois informaotin for the IP `222.128.1.2`:\n",
    "\n",
    "\n",
    "```\n",
    "\n",
    "IP Location\tChina China Beijing China Unicom Beijing Province Network\n",
    "ASN\tChina AS4808 CHINA169-BJ China Unicom Beijing Province Network, CN (registered Jan 09, 1996)\n",
    "Whois Server\twhois.apnic.net\n",
    "IP Address\t222.128.1.2\n",
    "inetnum:        222.128.0.0 - 222.131.255.255\n",
    "netname:        UNICOM-BJ\n",
    "descr:          China Unicom Beijing province network\n",
    "descr:          China Unicom\n",
    "country:        CN\n",
    "admin-c:        CH1302-AP\n",
    "tech-c:         SY21-AP\n",
    "mnt-by:         APNIC-HM\n",
    "mnt-lower:      MAINT-CNCGROUP-BJ\n",
    "mnt-routes:     MAINT-CNCGROUP-RR\n",
    "mnt-irt:        IRT-CU-CN\n",
    "status:         ALLOCATED PORTABLE\n",
    "last-modified:  2013-08-08T23:17:26Z\n",
    "source:         APNIC\n",
    "\n",
    "irt:            IRT-CU-CN\n",
    "address:        No.21,Financial Street\n",
    "address:        Beijing,100033\n",
    "address:        P.R.China\n",
    "e-mail:         \n",
    "abuse-mailbox:  \n",
    "admin-c:        CH1302-AP\n",
    "tech-c:         CH1302-AP\n",
    "auth:           # Filtered\n",
    "mnt-by:         MAINT-CNCGROUP\n",
    "last-modified:  2017-10-23T05:59:13Z\n",
    "source:         APNIC\n",
    "\n",
    "person:         ChinaUnicom Hostmaster\n",
    "nic-hdl:        CH1302-AP\n",
    "e-mail:         \n",
    "address:        No.21,Jin-Rong Street\n",
    "address:        Beijing,100033\n",
    "address:        P.R.China\n",
    "phone:          +86-10-66259764\n",
    "fax-no:         +86-10-66259764\n",
    "country:        CN\n",
    "mnt-by:         MAINT-CNCGROUP\n",
    "last-modified:  2017-08-17T06:13:16Z\n",
    "source:         APNIC\n",
    "\n",
    "person:         sun ying\n",
    "address:        fu xing men nei da jie 97, Xicheng District\n",
    "address:        Beijing 100800\n",
    "country:        CN\n",
    "phone:          +86-10-66030657\n",
    "fax-no:         +86-10-66078815\n",
    "e-mail:         \n",
    "nic-hdl:        SY21-AP\n",
    "mnt-by:         MAINT-CNCGROUP-BJ\n",
    "last-modified:  2009-06-30T08:42:48Z\n",
    "source:         APNIC\n",
    "\n",
    "route:          222.128.0.0/14\n",
    "descr:          China Unicom Beijing Province Network\n",
    "country:        CN\n",
    "origin:         AS4808\n",
    "mnt-by:         MAINT-CNCGROUP-RR\n",
    "last-modified:  2016-05-20T01:24:03Z\n",
    "source:         APNIC\n",
    "```"
   ]
  },
  {
   "cell_type": "markdown",
   "metadata": {},
   "source": [
    "#### sockets\n",
    "As with process enumeration there are several ways to enumerate network connections from memory. Below is another plugin, looks for and parses a singly-linked list of socket structures from the tcpip.sys module and only works on XP and 2003 systems."
   ]
  },
  {
   "cell_type": "code",
   "execution_count": 20,
   "metadata": {},
   "outputs": [
    {
     "name": "stdout",
     "output_type": "stream",
     "text": [
      "Volatility Foundation Volatility Framework 2.6\n",
      "Offset(V)       PID   Port  Proto Protocol        Address         Create Time\n",
      "---------- -------- ------ ------ --------------- --------------- -----------\n",
      "0x822ef510      796   1053      6 TCP             0.0.0.0         2009-05-05 19:29:06 UTC+0000\n",
      "0x81fa9008     1212   1900     17 UDP             192.168.157.10  2009-04-16 16:10:20 UTC+0000\n",
      "0x822d25b0        4      0     47 GRE             0.0.0.0         2009-05-05 19:28:35 UTC+0000\n",
      "0x81e59748      716    500     17 UDP             0.0.0.0         2009-04-16 16:10:16 UTC+0000\n",
      "0x822d7220        4    139      6 TCP             192.168.157.10  2009-04-16 16:10:00 UTC+0000\n",
      "0x8206ce98      464   1032      6 TCP             127.0.0.1       2009-04-16 16:10:21 UTC+0000\n",
      "0x82305008        4    445      6 TCP             0.0.0.0         2009-04-16 16:10:00 UTC+0000\n",
      "0x81df5298      968    135      6 TCP             0.0.0.0         2009-04-16 16:10:07 UTC+0000\n",
      "0x82305258        4    137     17 UDP             192.168.157.10  2009-04-16 16:10:00 UTC+0000\n",
      "0x81d354c8     1088    123     17 UDP             127.0.0.1       2009-04-16 16:10:20 UTC+0000\n",
      "0x82165320      716      0    255 Reserved        0.0.0.0         2009-04-16 16:10:16 UTC+0000\n",
      "0x82191138        4    138     17 UDP             192.168.157.10  2009-04-16 16:10:00 UTC+0000\n",
      "0x81fa9658     1088    123     17 UDP             192.168.157.10  2009-04-16 16:10:20 UTC+0000\n",
      "0x822f6618        4   1052      6 TCP             0.0.0.0         2009-05-05 19:28:35 UTC+0000\n",
      "0x821514f8     1212   1900     17 UDP             127.0.0.1       2009-04-16 16:10:20 UTC+0000\n",
      "0x822dda88      716   4500     17 UDP             0.0.0.0         2009-04-16 16:10:16 UTC+0000\n",
      "0x821554c8     1088   1028     17 UDP             127.0.0.1       2009-04-16 16:10:20 UTC+0000\n",
      "0x82305818        4    445     17 UDP             0.0.0.0         2009-04-16 16:10:00 UTC+0000\n",
      "python ../volatility/vol.py -f ../APT.img --profile=WinXPSP2x86 sockets\n"
     ]
    }
   ],
   "source": [
    "python ../volatility/vol.py -f ../APT.img --profile=WinXPSP2x86 sockets"
   ]
  },
  {
   "cell_type": "markdown",
   "metadata": {},
   "source": [
    "From this we can see PID 796 is listing on port 1053 at `2009-05-05 19:29:06 UTC+0000`. Giving you another data point for your analysis, especially for temporally based enumeration.  "
   ]
  },
  {
   "cell_type": "code",
   "execution_count": 23,
   "metadata": {},
   "outputs": [
    {
     "name": "stdout",
     "output_type": "stream",
     "text": [
      "Volatility Foundation Volatility Framework 2.6\n",
      "Offset(P)       PID   Port  Proto Protocol        Address         Create Time\n",
      "---------- -------- ------ ------ --------------- --------------- -----------\n",
      "0x01f354c8     1088    123     17 UDP             127.0.0.1       2009-04-16 16:10:20 UTC+0000\n",
      "0x01ff5298      968    135      6 TCP             0.0.0.0         2009-04-16 16:10:07 UTC+0000\n",
      "0x02059748      716    500     17 UDP             0.0.0.0         2009-04-16 16:10:16 UTC+0000\n",
      "0x021a9008     1212   1900     17 UDP             192.168.157.10  2009-04-16 16:10:20 UTC+0000\n",
      "0x021a9658     1088    123     17 UDP             192.168.157.10  2009-04-16 16:10:20 UTC+0000\n",
      "0x0226ce98      464   1032      6 TCP             127.0.0.1       2009-04-16 16:10:21 UTC+0000\n",
      "0x023514f8     1212   1900     17 UDP             127.0.0.1       2009-04-16 16:10:20 UTC+0000\n",
      "0x023554c8     1088   1028     17 UDP             127.0.0.1       2009-04-16 16:10:20 UTC+0000\n",
      "0x02365320      716      0    255 Reserved        0.0.0.0         2009-04-16 16:10:16 UTC+0000\n",
      "0x02391138        4    138     17 UDP             192.168.157.10  2009-04-16 16:10:00 UTC+0000\n",
      "0x024d25b0        4      0     47 GRE             0.0.0.0         2009-05-05 19:28:35 UTC+0000\n",
      "0x024d7220        4    139      6 TCP             192.168.157.10  2009-04-16 16:10:00 UTC+0000\n",
      "0x024dda88      716   4500     17 UDP             0.0.0.0         2009-04-16 16:10:16 UTC+0000\n",
      "0x024ef510      796   1053      6 TCP             0.0.0.0         2009-05-05 19:29:06 UTC+0000\n",
      "0x024f6618        4   1052      6 TCP             0.0.0.0         2009-05-05 19:28:35 UTC+0000\n",
      "0x02505008        4    445      6 TCP             0.0.0.0         2009-04-16 16:10:00 UTC+0000\n",
      "0x02505258        4    137     17 UDP             192.168.157.10  2009-04-16 16:10:00 UTC+0000\n",
      "0x02505818        4    445     17 UDP             0.0.0.0         2009-04-16 16:10:00 UTC+0000\n",
      "0x03060618        4   1052      6 TCP             0.0.0.0         2009-05-05 19:28:35 UTC+0000\n",
      "0x07a99510      796   1053      6 TCP             0.0.0.0         2009-05-05 19:29:06 UTC+0000\n",
      "0x07b924c8     1088    123     17 UDP             127.0.0.1       2009-04-16 16:10:20 UTC+0000\n",
      "0x089a5618        4   1052      6 TCP             0.0.0.0         2009-05-05 19:28:35 UTC+0000\n",
      "0x0af26510      796   1053      6 TCP             0.0.0.0         2009-05-05 19:29:06 UTC+0000\n",
      "0x0e4624c8     1088    123     17 UDP             127.0.0.1       2009-04-16 16:10:20 UTC+0000\n",
      "0x15930008        4    445      6 TCP             0.0.0.0         2009-04-16 16:10:00 UTC+0000\n",
      "0x15930258        4    137     17 UDP             192.168.157.10  2009-04-16 16:10:00 UTC+0000\n",
      "0x15930818        4    445     17 UDP             0.0.0.0         2009-04-16 16:10:00 UTC+0000\n",
      "0x159c1220        4    139      6 TCP             192.168.157.10  2009-04-16 16:10:00 UTC+0000\n",
      "0x16b5a618        4   1052      6 TCP             0.0.0.0         2009-05-05 19:28:35 UTC+0000\n",
      "0x1c3de618        4   1052      6 TCP             0.0.0.0         2009-05-05 19:28:35 UTC+0000\n",
      "python ../volatility/vol.py -f ../APT.img --profile"
     ]
    }
   ],
   "source": [
    "python ../volatility/vol.py -f ../APT.img --profile=WinXPSP2x86 sockscan"
   ]
  },
  {
   "cell_type": "code",
   "execution_count": 26,
   "metadata": {},
   "outputs": [
    {
     "name": "stdout",
     "output_type": "stream",
     "text": [
      "Volatility Foundation Volatility Framework 2.6\n",
      "ERROR   : volatility.debug    : This command does not support the profile WinXPSP2x86\n",
      "python ../volatility/vol.py -f ../APT.img --profile=WinXPSP2x86 netscan\n"
     ]
    }
   ],
   "source": [
    "python ../volatility/vol.py -f ../APT.img --profile=WinXPSP2x86 netscan"
   ]
  },
  {
   "cell_type": "markdown",
   "metadata": {},
   "source": [
    "This command errors because this plugin only works for Windows Vista and above profiles byt the other provided commands should find what you need for network connections for Windows XP images. "
   ]
  }
 ],
 "metadata": {
  "kernelspec": {
   "display_name": "PowerShell",
   "language": "powershell",
   "name": "powershell"
  },
  "language_info": {
   "codemirror_mode": "shell",
   "file_extension": ".ps1",
   "mimetype": "text/x-sh",
   "name": "powershell"
  }
 },
 "nbformat": 4,
 "nbformat_minor": 2
}
